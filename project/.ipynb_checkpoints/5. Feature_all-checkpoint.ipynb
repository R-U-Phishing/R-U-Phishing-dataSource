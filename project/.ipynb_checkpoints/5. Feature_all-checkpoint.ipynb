{
 "cells": [
  {
   "cell_type": "code",
   "execution_count": 2,
   "id": "51de0335-1e32-4712-b159-b977158b188a",
   "metadata": {},
   "outputs": [],
   "source": [
    "import Feature"
   ]
  },
  {
   "cell_type": "code",
   "execution_count": 3,
   "id": "3b1f9fe2-4a9d-4a16-82d9-288fea9583cd",
   "metadata": {},
   "outputs": [],
   "source": [
    "url = \"https://naver.com\"\n",
    "list_t = []"
   ]
  },
  {
   "cell_type": "code",
   "execution_count": 4,
   "id": "0b991ca4-5a28-4297-be11-f02d364ab1cd",
   "metadata": {},
   "outputs": [
    {
     "name": "stdout",
     "output_type": "stream",
     "text": [
      "9178\n"
     ]
    }
   ],
   "source": [
    "list_t.append(Feature.Age_of_Domain(url))"
   ]
  },
  {
   "cell_type": "code",
   "execution_count": 5,
   "id": "900878d6-cfb5-4a9e-82d7-d2135579fb12",
   "metadata": {},
   "outputs": [],
   "source": [
    "list_t.append(Feature.DNS_Record(url))"
   ]
  },
  {
   "cell_type": "code",
   "execution_count": 6,
   "id": "a836621c-53c5-4555-91d5-de84a0c926d3",
   "metadata": {},
   "outputs": [
    {
     "data": {
      "text/plain": [
       "[1, 1]"
      ]
     },
     "execution_count": 6,
     "metadata": {},
     "output_type": "execute_result"
    }
   ],
   "source": [
    "list_t"
   ]
  }
 ],
 "metadata": {
  "kernelspec": {
   "display_name": "Python 3 (ipykernel)",
   "language": "python",
   "name": "python3"
  },
  "language_info": {
   "codemirror_mode": {
    "name": "ipython",
    "version": 3
   },
   "file_extension": ".py",
   "mimetype": "text/x-python",
   "name": "python",
   "nbconvert_exporter": "python",
   "pygments_lexer": "ipython3",
   "version": "3.9.12"
  }
 },
 "nbformat": 4,
 "nbformat_minor": 5
}
