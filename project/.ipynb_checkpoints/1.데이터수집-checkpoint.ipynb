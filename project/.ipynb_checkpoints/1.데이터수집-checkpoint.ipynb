{
 "cells": [
  {
   "cell_type": "code",
   "execution_count": 1,
   "id": "de7914e4-c349-424f-925e-7ff47919a9c0",
   "metadata": {},
   "outputs": [],
   "source": [
    "import pandas as pd"
   ]
  },
  {
   "cell_type": "code",
   "execution_count": 12,
   "id": "669127d7-8117-4283-9af3-671d52cc7b88",
   "metadata": {},
   "outputs": [],
   "source": [
    "phishing = pd.read_csv(\"verified_online.csv\")"
   ]
  },
  {
   "cell_type": "code",
   "execution_count": 13,
   "id": "053b4737-c49e-474e-b1ce-99c88e08c7b4",
   "metadata": {},
   "outputs": [
    {
     "data": {
      "text/html": [
       "<div>\n",
       "<style scoped>\n",
       "    .dataframe tbody tr th:only-of-type {\n",
       "        vertical-align: middle;\n",
       "    }\n",
       "\n",
       "    .dataframe tbody tr th {\n",
       "        vertical-align: top;\n",
       "    }\n",
       "\n",
       "    .dataframe thead th {\n",
       "        text-align: right;\n",
       "    }\n",
       "</style>\n",
       "<table border=\"1\" class=\"dataframe\">\n",
       "  <thead>\n",
       "    <tr style=\"text-align: right;\">\n",
       "      <th></th>\n",
       "      <th>phish_id</th>\n",
       "      <th>url</th>\n",
       "      <th>phish_detail_url</th>\n",
       "      <th>submission_time</th>\n",
       "      <th>verified</th>\n",
       "      <th>verification_time</th>\n",
       "      <th>online</th>\n",
       "      <th>target</th>\n",
       "    </tr>\n",
       "  </thead>\n",
       "  <tbody>\n",
       "    <tr>\n",
       "      <th>0</th>\n",
       "      <td>7872272</td>\n",
       "      <td>https://dpts.it/vystarcureviewrecentdeposit/</td>\n",
       "      <td>http://www.phishtank.com/phish_detail.php?phis...</td>\n",
       "      <td>2022-10-22T00:09:35+00:00</td>\n",
       "      <td>yes</td>\n",
       "      <td>2022-10-22T00:12:42+00:00</td>\n",
       "      <td>yes</td>\n",
       "      <td>Other</td>\n",
       "    </tr>\n",
       "    <tr>\n",
       "      <th>1</th>\n",
       "      <td>7872270</td>\n",
       "      <td>https://thestakefish.com/</td>\n",
       "      <td>http://www.phishtank.com/phish_detail.php?phis...</td>\n",
       "      <td>2022-10-21T23:45:49+00:00</td>\n",
       "      <td>yes</td>\n",
       "      <td>2022-10-21T23:52:39+00:00</td>\n",
       "      <td>yes</td>\n",
       "      <td>Other</td>\n",
       "    </tr>\n",
       "    <tr>\n",
       "      <th>2</th>\n",
       "      <td>7872268</td>\n",
       "      <td>https://toportunity.com/kd12dm912/</td>\n",
       "      <td>http://www.phishtank.com/phish_detail.php?phis...</td>\n",
       "      <td>2022-10-21T23:31:55+00:00</td>\n",
       "      <td>yes</td>\n",
       "      <td>2022-10-21T23:42:44+00:00</td>\n",
       "      <td>yes</td>\n",
       "      <td>Other</td>\n",
       "    </tr>\n",
       "    <tr>\n",
       "      <th>3</th>\n",
       "      <td>7872266</td>\n",
       "      <td>https://us-shein.winsreward.com/</td>\n",
       "      <td>http://www.phishtank.com/phish_detail.php?phis...</td>\n",
       "      <td>2022-10-21T23:23:35+00:00</td>\n",
       "      <td>yes</td>\n",
       "      <td>2022-10-21T23:32:51+00:00</td>\n",
       "      <td>yes</td>\n",
       "      <td>Other</td>\n",
       "    </tr>\n",
       "    <tr>\n",
       "      <th>4</th>\n",
       "      <td>7872259</td>\n",
       "      <td>https://solicitadesdetumovilappi.top/</td>\n",
       "      <td>http://www.phishtank.com/phish_detail.php?phis...</td>\n",
       "      <td>2022-10-21T22:58:31+00:00</td>\n",
       "      <td>yes</td>\n",
       "      <td>2022-10-21T23:03:25+00:00</td>\n",
       "      <td>yes</td>\n",
       "      <td>Other</td>\n",
       "    </tr>\n",
       "    <tr>\n",
       "      <th>...</th>\n",
       "      <td>...</td>\n",
       "      <td>...</td>\n",
       "      <td>...</td>\n",
       "      <td>...</td>\n",
       "      <td>...</td>\n",
       "      <td>...</td>\n",
       "      <td>...</td>\n",
       "      <td>...</td>\n",
       "    </tr>\n",
       "    <tr>\n",
       "      <th>95</th>\n",
       "      <td>7872054</td>\n",
       "      <td>https://asiudga76awd.sciaudsbi.repl.co/</td>\n",
       "      <td>http://www.phishtank.com/phish_detail.php?phis...</td>\n",
       "      <td>2022-10-21T17:38:11+00:00</td>\n",
       "      <td>yes</td>\n",
       "      <td>2022-10-21T17:42:56+00:00</td>\n",
       "      <td>yes</td>\n",
       "      <td>Other</td>\n",
       "    </tr>\n",
       "    <tr>\n",
       "      <th>96</th>\n",
       "      <td>7872053</td>\n",
       "      <td>https://soloparatiaumentatucupo--transaccional...</td>\n",
       "      <td>http://www.phishtank.com/phish_detail.php?phis...</td>\n",
       "      <td>2022-10-21T17:37:15+00:00</td>\n",
       "      <td>yes</td>\n",
       "      <td>2022-10-21T17:42:56+00:00</td>\n",
       "      <td>yes</td>\n",
       "      <td>Other</td>\n",
       "    </tr>\n",
       "    <tr>\n",
       "      <th>97</th>\n",
       "      <td>7872052</td>\n",
       "      <td>https://provin94.live821.repl.co/</td>\n",
       "      <td>http://www.phishtank.com/phish_detail.php?phis...</td>\n",
       "      <td>2022-10-21T17:36:55+00:00</td>\n",
       "      <td>yes</td>\n",
       "      <td>2022-10-21T17:42:56+00:00</td>\n",
       "      <td>yes</td>\n",
       "      <td>Other</td>\n",
       "    </tr>\n",
       "    <tr>\n",
       "      <th>98</th>\n",
       "      <td>7872051</td>\n",
       "      <td>https://typco.siempretuyapay.repl.co/</td>\n",
       "      <td>http://www.phishtank.com/phish_detail.php?phis...</td>\n",
       "      <td>2022-10-21T17:36:51+00:00</td>\n",
       "      <td>yes</td>\n",
       "      <td>2022-10-21T17:42:56+00:00</td>\n",
       "      <td>yes</td>\n",
       "      <td>Other</td>\n",
       "    </tr>\n",
       "    <tr>\n",
       "      <th>99</th>\n",
       "      <td>7872047</td>\n",
       "      <td>https://www2.epsosccard.co.jp.dszzffz.top/</td>\n",
       "      <td>http://www.phishtank.com/phish_detail.php?phis...</td>\n",
       "      <td>2022-10-21T17:24:16+00:00</td>\n",
       "      <td>yes</td>\n",
       "      <td>2022-10-21T17:33:46+00:00</td>\n",
       "      <td>yes</td>\n",
       "      <td>EPOS Card</td>\n",
       "    </tr>\n",
       "  </tbody>\n",
       "</table>\n",
       "<p>100 rows × 8 columns</p>\n",
       "</div>"
      ],
      "text/plain": [
       "    phish_id                                                url  \\\n",
       "0    7872272       https://dpts.it/vystarcureviewrecentdeposit/   \n",
       "1    7872270                          https://thestakefish.com/   \n",
       "2    7872268                 https://toportunity.com/kd12dm912/   \n",
       "3    7872266                   https://us-shein.winsreward.com/   \n",
       "4    7872259              https://solicitadesdetumovilappi.top/   \n",
       "..       ...                                                ...   \n",
       "95   7872054            https://asiudga76awd.sciaudsbi.repl.co/   \n",
       "96   7872053  https://soloparatiaumentatucupo--transaccional...   \n",
       "97   7872052                  https://provin94.live821.repl.co/   \n",
       "98   7872051              https://typco.siempretuyapay.repl.co/   \n",
       "99   7872047         https://www2.epsosccard.co.jp.dszzffz.top/   \n",
       "\n",
       "                                     phish_detail_url  \\\n",
       "0   http://www.phishtank.com/phish_detail.php?phis...   \n",
       "1   http://www.phishtank.com/phish_detail.php?phis...   \n",
       "2   http://www.phishtank.com/phish_detail.php?phis...   \n",
       "3   http://www.phishtank.com/phish_detail.php?phis...   \n",
       "4   http://www.phishtank.com/phish_detail.php?phis...   \n",
       "..                                                ...   \n",
       "95  http://www.phishtank.com/phish_detail.php?phis...   \n",
       "96  http://www.phishtank.com/phish_detail.php?phis...   \n",
       "97  http://www.phishtank.com/phish_detail.php?phis...   \n",
       "98  http://www.phishtank.com/phish_detail.php?phis...   \n",
       "99  http://www.phishtank.com/phish_detail.php?phis...   \n",
       "\n",
       "              submission_time verified          verification_time online  \\\n",
       "0   2022-10-22T00:09:35+00:00      yes  2022-10-22T00:12:42+00:00    yes   \n",
       "1   2022-10-21T23:45:49+00:00      yes  2022-10-21T23:52:39+00:00    yes   \n",
       "2   2022-10-21T23:31:55+00:00      yes  2022-10-21T23:42:44+00:00    yes   \n",
       "3   2022-10-21T23:23:35+00:00      yes  2022-10-21T23:32:51+00:00    yes   \n",
       "4   2022-10-21T22:58:31+00:00      yes  2022-10-21T23:03:25+00:00    yes   \n",
       "..                        ...      ...                        ...    ...   \n",
       "95  2022-10-21T17:38:11+00:00      yes  2022-10-21T17:42:56+00:00    yes   \n",
       "96  2022-10-21T17:37:15+00:00      yes  2022-10-21T17:42:56+00:00    yes   \n",
       "97  2022-10-21T17:36:55+00:00      yes  2022-10-21T17:42:56+00:00    yes   \n",
       "98  2022-10-21T17:36:51+00:00      yes  2022-10-21T17:42:56+00:00    yes   \n",
       "99  2022-10-21T17:24:16+00:00      yes  2022-10-21T17:33:46+00:00    yes   \n",
       "\n",
       "       target  \n",
       "0       Other  \n",
       "1       Other  \n",
       "2       Other  \n",
       "3       Other  \n",
       "4       Other  \n",
       "..        ...  \n",
       "95      Other  \n",
       "96      Other  \n",
       "97      Other  \n",
       "98      Other  \n",
       "99  EPOS Card  \n",
       "\n",
       "[100 rows x 8 columns]"
      ]
     },
     "execution_count": 13,
     "metadata": {},
     "output_type": "execute_result"
    }
   ],
   "source": [
    "phishing[:100]"
   ]
  },
  {
   "cell_type": "code",
   "execution_count": 14,
   "id": "a2044e69-f66f-4e23-b730-f06d31ae0457",
   "metadata": {},
   "outputs": [],
   "source": [
    "# pip install tld"
   ]
  },
  {
   "cell_type": "code",
   "execution_count": 15,
   "id": "c29baa45-113c-4c12-af9c-05ec5c7950a6",
   "metadata": {},
   "outputs": [
    {
     "data": {
      "text/plain": [
       "'http://login.miizuha-bunkes-co-jp.cyou/client/index_sp.php'"
      ]
     },
     "execution_count": 15,
     "metadata": {},
     "output_type": "execute_result"
    }
   ],
   "source": [
    "phishing.iloc[8][\"url\"]"
   ]
  },
  {
   "cell_type": "code",
   "execution_count": 16,
   "id": "3db2cd2e-d263-4de7-9eac-0cd0fc2f94c3",
   "metadata": {},
   "outputs": [],
   "source": [
    "from tld import get_tld"
   ]
  },
  {
   "cell_type": "code",
   "execution_count": 17,
   "id": "2c22c6a1-6246-4d3f-a224-f9c7dba44f1f",
   "metadata": {},
   "outputs": [],
   "source": [
    "tld = get_tld('http://login.miizuha-bunkes-co-jp.cyou/client/index_sp.php', as_object=True)"
   ]
  },
  {
   "cell_type": "code",
   "execution_count": 18,
   "id": "86600cf6-2edc-438e-812d-f2af1d7039d6",
   "metadata": {},
   "outputs": [
    {
     "data": {
      "text/plain": [
       "'miizuha-bunkes-co-jp'"
      ]
     },
     "execution_count": 18,
     "metadata": {},
     "output_type": "execute_result"
    }
   ],
   "source": [
    "tld.domain"
   ]
  },
  {
   "cell_type": "code",
   "execution_count": 19,
   "id": "f59912db-3ebb-48d2-b536-33297a2954e3",
   "metadata": {},
   "outputs": [
    {
     "data": {
      "text/plain": [
       "cyou"
      ]
     },
     "execution_count": 19,
     "metadata": {},
     "output_type": "execute_result"
    }
   ],
   "source": [
    "tld"
   ]
  },
  {
   "cell_type": "code",
   "execution_count": 20,
   "id": "cb3cbd45-0ca8-4370-be58-a093c7bbd184",
   "metadata": {},
   "outputs": [],
   "source": [
    "urls = []\n",
    "for url in phishing[\"url\"]:\n",
    "    try:\n",
    "        tld = get_tld(url, as_object=True)\n",
    "        urls.append(tld.domain)\n",
    "    except:\n",
    "        urls.append(url)"
   ]
  },
  {
   "cell_type": "code",
   "execution_count": 21,
   "id": "4e30eee1-48fc-47be-9914-1fd9a6a3e76c",
   "metadata": {},
   "outputs": [],
   "source": [
    "phishing['domain'] = urls"
   ]
  },
  {
   "cell_type": "code",
   "execution_count": 22,
   "id": "189ca090-9a98-4ff5-91cb-cda247eb68c4",
   "metadata": {},
   "outputs": [
    {
     "data": {
      "text/html": [
       "<div>\n",
       "<style scoped>\n",
       "    .dataframe tbody tr th:only-of-type {\n",
       "        vertical-align: middle;\n",
       "    }\n",
       "\n",
       "    .dataframe tbody tr th {\n",
       "        vertical-align: top;\n",
       "    }\n",
       "\n",
       "    .dataframe thead th {\n",
       "        text-align: right;\n",
       "    }\n",
       "</style>\n",
       "<table border=\"1\" class=\"dataframe\">\n",
       "  <thead>\n",
       "    <tr style=\"text-align: right;\">\n",
       "      <th></th>\n",
       "      <th>phish_id</th>\n",
       "      <th>url</th>\n",
       "      <th>phish_detail_url</th>\n",
       "      <th>submission_time</th>\n",
       "      <th>verified</th>\n",
       "      <th>verification_time</th>\n",
       "      <th>online</th>\n",
       "      <th>target</th>\n",
       "      <th>domain</th>\n",
       "    </tr>\n",
       "  </thead>\n",
       "  <tbody>\n",
       "    <tr>\n",
       "      <th>0</th>\n",
       "      <td>7872272</td>\n",
       "      <td>https://dpts.it/vystarcureviewrecentdeposit/</td>\n",
       "      <td>http://www.phishtank.com/phish_detail.php?phis...</td>\n",
       "      <td>2022-10-22T00:09:35+00:00</td>\n",
       "      <td>yes</td>\n",
       "      <td>2022-10-22T00:12:42+00:00</td>\n",
       "      <td>yes</td>\n",
       "      <td>Other</td>\n",
       "      <td>dpts</td>\n",
       "    </tr>\n",
       "    <tr>\n",
       "      <th>1</th>\n",
       "      <td>7872270</td>\n",
       "      <td>https://thestakefish.com/</td>\n",
       "      <td>http://www.phishtank.com/phish_detail.php?phis...</td>\n",
       "      <td>2022-10-21T23:45:49+00:00</td>\n",
       "      <td>yes</td>\n",
       "      <td>2022-10-21T23:52:39+00:00</td>\n",
       "      <td>yes</td>\n",
       "      <td>Other</td>\n",
       "      <td>thestakefish</td>\n",
       "    </tr>\n",
       "    <tr>\n",
       "      <th>2</th>\n",
       "      <td>7872268</td>\n",
       "      <td>https://toportunity.com/kd12dm912/</td>\n",
       "      <td>http://www.phishtank.com/phish_detail.php?phis...</td>\n",
       "      <td>2022-10-21T23:31:55+00:00</td>\n",
       "      <td>yes</td>\n",
       "      <td>2022-10-21T23:42:44+00:00</td>\n",
       "      <td>yes</td>\n",
       "      <td>Other</td>\n",
       "      <td>toportunity</td>\n",
       "    </tr>\n",
       "    <tr>\n",
       "      <th>3</th>\n",
       "      <td>7872266</td>\n",
       "      <td>https://us-shein.winsreward.com/</td>\n",
       "      <td>http://www.phishtank.com/phish_detail.php?phis...</td>\n",
       "      <td>2022-10-21T23:23:35+00:00</td>\n",
       "      <td>yes</td>\n",
       "      <td>2022-10-21T23:32:51+00:00</td>\n",
       "      <td>yes</td>\n",
       "      <td>Other</td>\n",
       "      <td>winsreward</td>\n",
       "    </tr>\n",
       "    <tr>\n",
       "      <th>4</th>\n",
       "      <td>7872259</td>\n",
       "      <td>https://solicitadesdetumovilappi.top/</td>\n",
       "      <td>http://www.phishtank.com/phish_detail.php?phis...</td>\n",
       "      <td>2022-10-21T22:58:31+00:00</td>\n",
       "      <td>yes</td>\n",
       "      <td>2022-10-21T23:03:25+00:00</td>\n",
       "      <td>yes</td>\n",
       "      <td>Other</td>\n",
       "      <td>solicitadesdetumovilappi</td>\n",
       "    </tr>\n",
       "  </tbody>\n",
       "</table>\n",
       "</div>"
      ],
      "text/plain": [
       "   phish_id                                           url  \\\n",
       "0   7872272  https://dpts.it/vystarcureviewrecentdeposit/   \n",
       "1   7872270                     https://thestakefish.com/   \n",
       "2   7872268            https://toportunity.com/kd12dm912/   \n",
       "3   7872266              https://us-shein.winsreward.com/   \n",
       "4   7872259         https://solicitadesdetumovilappi.top/   \n",
       "\n",
       "                                    phish_detail_url  \\\n",
       "0  http://www.phishtank.com/phish_detail.php?phis...   \n",
       "1  http://www.phishtank.com/phish_detail.php?phis...   \n",
       "2  http://www.phishtank.com/phish_detail.php?phis...   \n",
       "3  http://www.phishtank.com/phish_detail.php?phis...   \n",
       "4  http://www.phishtank.com/phish_detail.php?phis...   \n",
       "\n",
       "             submission_time verified          verification_time online  \\\n",
       "0  2022-10-22T00:09:35+00:00      yes  2022-10-22T00:12:42+00:00    yes   \n",
       "1  2022-10-21T23:45:49+00:00      yes  2022-10-21T23:52:39+00:00    yes   \n",
       "2  2022-10-21T23:31:55+00:00      yes  2022-10-21T23:42:44+00:00    yes   \n",
       "3  2022-10-21T23:23:35+00:00      yes  2022-10-21T23:32:51+00:00    yes   \n",
       "4  2022-10-21T22:58:31+00:00      yes  2022-10-21T23:03:25+00:00    yes   \n",
       "\n",
       "  target                    domain  \n",
       "0  Other                      dpts  \n",
       "1  Other              thestakefish  \n",
       "2  Other               toportunity  \n",
       "3  Other                winsreward  \n",
       "4  Other  solicitadesdetumovilappi  "
      ]
     },
     "execution_count": 22,
     "metadata": {},
     "output_type": "execute_result"
    }
   ],
   "source": [
    "phishing.head()"
   ]
  },
  {
   "cell_type": "code",
   "execution_count": 23,
   "id": "13af5e15-ec8c-480b-bcf5-10a183df9d66",
   "metadata": {},
   "outputs": [],
   "source": [
    "phishing = phishing.drop_duplicates(\"domain\")"
   ]
  },
  {
   "cell_type": "code",
   "execution_count": 24,
   "id": "04eb9d36-6d89-45eb-ada0-87192714efe9",
   "metadata": {},
   "outputs": [],
   "source": [
    "phishing = phishing[:1000]"
   ]
  },
  {
   "cell_type": "code",
   "execution_count": 25,
   "id": "6dd1df0b-1b84-4fe5-a301-f6452198eff3",
   "metadata": {},
   "outputs": [],
   "source": [
    "from tqdm import tqdm"
   ]
  },
  {
   "cell_type": "code",
   "execution_count": 30,
   "id": "78b0ff05-cbed-44ab-830f-cdce469a0fc0",
   "metadata": {},
   "outputs": [],
   "source": [
    "import requests"
   ]
  },
  {
   "cell_type": "code",
   "execution_count": 31,
   "id": "b4a80835-d760-4aea-bbb1-ac2f35785c3a",
   "metadata": {},
   "outputs": [
    {
     "name": "stderr",
     "output_type": "stream",
     "text": [
      "100%|██████████████████████████████████████████████████████████████████████████████| 1000/1000 [08:14<00:00,  2.02it/s]\n"
     ]
    }
   ],
   "source": [
    "status_t = []\n",
    "for url in tqdm(phishing[\"url\"]):\n",
    "    try:\n",
    "        res = requests.head(url, timeout=1)\n",
    "        status = res.status_code\n",
    "    except:\n",
    "        status = 0\n",
    "    status_t.append(status)"
   ]
  },
  {
   "cell_type": "code",
   "execution_count": 32,
   "id": "de261fc0-0ea5-47a5-b75d-9335de3e844d",
   "metadata": {},
   "outputs": [],
   "source": [
    "phishing['status'] = status_t"
   ]
  },
  {
   "cell_type": "code",
   "execution_count": 34,
   "id": "6ac794a9-bd62-475d-8e4e-6fd90a9b7b27",
   "metadata": {},
   "outputs": [
    {
     "data": {
      "text/plain": [
       "339"
      ]
     },
     "execution_count": 34,
     "metadata": {},
     "output_type": "execute_result"
    }
   ],
   "source": [
    "len(phishing[phishing['status'] == 200])"
   ]
  },
  {
   "cell_type": "code",
   "execution_count": 35,
   "id": "16eb6f1f-880c-4952-8b31-790dc5be8053",
   "metadata": {},
   "outputs": [],
   "source": [
    "phishing = phishing[phishing['status'] == 200]"
   ]
  },
  {
   "cell_type": "code",
   "execution_count": 36,
   "id": "e0731c1a-bb19-48fa-972b-0b3494892049",
   "metadata": {},
   "outputs": [],
   "source": [
    "phishing['label'] = -1"
   ]
  },
  {
   "cell_type": "code",
   "execution_count": 37,
   "id": "cae98b9f-e755-4306-842b-c98b86bdbe2d",
   "metadata": {},
   "outputs": [
    {
     "data": {
      "text/html": [
       "<div>\n",
       "<style scoped>\n",
       "    .dataframe tbody tr th:only-of-type {\n",
       "        vertical-align: middle;\n",
       "    }\n",
       "\n",
       "    .dataframe tbody tr th {\n",
       "        vertical-align: top;\n",
       "    }\n",
       "\n",
       "    .dataframe thead th {\n",
       "        text-align: right;\n",
       "    }\n",
       "</style>\n",
       "<table border=\"1\" class=\"dataframe\">\n",
       "  <thead>\n",
       "    <tr style=\"text-align: right;\">\n",
       "      <th></th>\n",
       "      <th>url</th>\n",
       "      <th>label</th>\n",
       "    </tr>\n",
       "  </thead>\n",
       "  <tbody>\n",
       "    <tr>\n",
       "      <th>0</th>\n",
       "      <td>https://dpts.it/vystarcureviewrecentdeposit/</td>\n",
       "      <td>-1</td>\n",
       "    </tr>\n",
       "    <tr>\n",
       "      <th>5</th>\n",
       "      <td>https://key-drop.wtf/openids/login?openid.ns=h...</td>\n",
       "      <td>-1</td>\n",
       "    </tr>\n",
       "    <tr>\n",
       "      <th>8</th>\n",
       "      <td>http://login.miizuha-bunkes-co-jp.cyou/client/...</td>\n",
       "      <td>-1</td>\n",
       "    </tr>\n",
       "    <tr>\n",
       "      <th>18</th>\n",
       "      <td>https://freemotionlessexternalcommand.xionlios...</td>\n",
       "      <td>-1</td>\n",
       "    </tr>\n",
       "    <tr>\n",
       "      <th>20</th>\n",
       "      <td>https://portalsete.columbie.repl.co/</td>\n",
       "      <td>-1</td>\n",
       "    </tr>\n",
       "    <tr>\n",
       "      <th>...</th>\n",
       "      <td>...</td>\n",
       "      <td>...</td>\n",
       "    </tr>\n",
       "    <tr>\n",
       "      <th>7451</th>\n",
       "      <td>http://www.vivcecviasai.visvsai.tubatue.icu/pa...</td>\n",
       "      <td>-1</td>\n",
       "    </tr>\n",
       "    <tr>\n",
       "      <th>7452</th>\n",
       "      <td>http://www.vivcecviasai.visvsai.ueyjdiks.icu/p...</td>\n",
       "      <td>-1</td>\n",
       "    </tr>\n",
       "    <tr>\n",
       "      <th>7453</th>\n",
       "      <td>http://www.vivcecviasai.visvsai.ufnj7h.icu/pag...</td>\n",
       "      <td>-1</td>\n",
       "    </tr>\n",
       "    <tr>\n",
       "      <th>7454</th>\n",
       "      <td>http://www.vivcecviasai.visvsai.ugu66t.icu/pag...</td>\n",
       "      <td>-1</td>\n",
       "    </tr>\n",
       "    <tr>\n",
       "      <th>7455</th>\n",
       "      <td>http://www.vivcecviasai.visvsai.ui2siu.icu/pag...</td>\n",
       "      <td>-1</td>\n",
       "    </tr>\n",
       "  </tbody>\n",
       "</table>\n",
       "<p>339 rows × 2 columns</p>\n",
       "</div>"
      ],
      "text/plain": [
       "                                                    url  label\n",
       "0          https://dpts.it/vystarcureviewrecentdeposit/     -1\n",
       "5     https://key-drop.wtf/openids/login?openid.ns=h...     -1\n",
       "8     http://login.miizuha-bunkes-co-jp.cyou/client/...     -1\n",
       "18    https://freemotionlessexternalcommand.xionlios...     -1\n",
       "20                 https://portalsete.columbie.repl.co/     -1\n",
       "...                                                 ...    ...\n",
       "7451  http://www.vivcecviasai.visvsai.tubatue.icu/pa...     -1\n",
       "7452  http://www.vivcecviasai.visvsai.ueyjdiks.icu/p...     -1\n",
       "7453  http://www.vivcecviasai.visvsai.ufnj7h.icu/pag...     -1\n",
       "7454  http://www.vivcecviasai.visvsai.ugu66t.icu/pag...     -1\n",
       "7455  http://www.vivcecviasai.visvsai.ui2siu.icu/pag...     -1\n",
       "\n",
       "[339 rows x 2 columns]"
      ]
     },
     "execution_count": 37,
     "metadata": {},
     "output_type": "execute_result"
    }
   ],
   "source": [
    "phishing[['url', 'label']]"
   ]
  },
  {
   "cell_type": "code",
   "execution_count": 38,
   "id": "018c0381-e7fb-4d0d-af2b-e2985e111d31",
   "metadata": {},
   "outputs": [],
   "source": [
    "normal = pd.read_csv('majestic_million.csv')"
   ]
  },
  {
   "cell_type": "code",
   "execution_count": 44,
   "id": "d489bd37-6a97-4ce1-b231-5f7067b7336d",
   "metadata": {},
   "outputs": [],
   "source": [
    "normal = normal[:len(phishing)*2]"
   ]
  },
  {
   "cell_type": "code",
   "execution_count": 45,
   "id": "95ae9d0a-47c0-4324-9e7c-683ecb91ba73",
   "metadata": {},
   "outputs": [],
   "source": [
    "normal['label'] = 1"
   ]
  },
  {
   "cell_type": "code",
   "execution_count": 46,
   "id": "0352fda8-eed9-4ff9-a9db-5db5b7d3adcb",
   "metadata": {},
   "outputs": [],
   "source": [
    "normal.rename(columns={\"Domain\":\"url\"}, inplace=True)"
   ]
  },
  {
   "cell_type": "code",
   "execution_count": 47,
   "id": "07a26962-f588-484a-b1ea-a2cf5dc941d2",
   "metadata": {},
   "outputs": [],
   "source": [
    "data = pd.concat([normal[[\"url\", \"label\"]], phishing[[\"url\", \"label\"]]])"
   ]
  },
  {
   "cell_type": "code",
   "execution_count": 48,
   "id": "bc215b14-b30a-43f2-8e88-270c4783ed76",
   "metadata": {},
   "outputs": [],
   "source": [
    "data.to_csv(\"data.csv\", index=False)"
   ]
  },
  {
   "cell_type": "code",
   "execution_count": 49,
   "id": "141465d5-4fde-4064-a7c1-d78841f72501",
   "metadata": {},
   "outputs": [
    {
     "data": {
      "text/plain": [
       "(1017, 2)"
      ]
     },
     "execution_count": 49,
     "metadata": {},
     "output_type": "execute_result"
    }
   ],
   "source": [
    "data.shape"
   ]
  }
 ],
 "metadata": {
  "kernelspec": {
   "display_name": "Python 3 (ipykernel)",
   "language": "python",
   "name": "python3"
  },
  "language_info": {
   "codemirror_mode": {
    "name": "ipython",
    "version": 3
   },
   "file_extension": ".py",
   "mimetype": "text/x-python",
   "name": "python",
   "nbconvert_exporter": "python",
   "pygments_lexer": "ipython3",
   "version": "3.9.12"
  }
 },
 "nbformat": 4,
 "nbformat_minor": 5
}
