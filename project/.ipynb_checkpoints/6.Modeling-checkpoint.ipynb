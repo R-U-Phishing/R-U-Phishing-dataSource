{
 "cells": [
  {
   "cell_type": "code",
   "execution_count": 1,
   "id": "f6e80e0a-899a-4987-9667-dcf72f05a6ec",
   "metadata": {},
   "outputs": [],
   "source": [
    "import pandas as pd"
   ]
  },
  {
   "cell_type": "code",
   "execution_count": 2,
   "id": "9db6c27d-51cc-454c-be59-43222131ade7",
   "metadata": {},
   "outputs": [],
   "source": [
    "data = pd.read_csv(\"pwf_dataset.csv\", header=None)"
   ]
  },
  {
   "cell_type": "code",
   "execution_count": 3,
   "id": "2713b263-f70e-4a7f-a615-c05fe0a1e759",
   "metadata": {},
   "outputs": [
    {
     "data": {
      "text/html": [
       "<div>\n",
       "<style scoped>\n",
       "    .dataframe tbody tr th:only-of-type {\n",
       "        vertical-align: middle;\n",
       "    }\n",
       "\n",
       "    .dataframe tbody tr th {\n",
       "        vertical-align: top;\n",
       "    }\n",
       "\n",
       "    .dataframe thead th {\n",
       "        text-align: right;\n",
       "    }\n",
       "</style>\n",
       "<table border=\"1\" class=\"dataframe\">\n",
       "  <thead>\n",
       "    <tr style=\"text-align: right;\">\n",
       "      <th></th>\n",
       "      <th>0</th>\n",
       "      <th>1</th>\n",
       "      <th>2</th>\n",
       "      <th>3</th>\n",
       "      <th>4</th>\n",
       "      <th>5</th>\n",
       "      <th>6</th>\n",
       "      <th>7</th>\n",
       "      <th>8</th>\n",
       "      <th>9</th>\n",
       "      <th>...</th>\n",
       "      <th>21</th>\n",
       "      <th>22</th>\n",
       "      <th>23</th>\n",
       "      <th>24</th>\n",
       "      <th>25</th>\n",
       "      <th>26</th>\n",
       "      <th>27</th>\n",
       "      <th>28</th>\n",
       "      <th>29</th>\n",
       "      <th>30</th>\n",
       "    </tr>\n",
       "  </thead>\n",
       "  <tbody>\n",
       "    <tr>\n",
       "      <th>0</th>\n",
       "      <td>-1</td>\n",
       "      <td>1</td>\n",
       "      <td>1</td>\n",
       "      <td>1</td>\n",
       "      <td>-1</td>\n",
       "      <td>-1</td>\n",
       "      <td>-1</td>\n",
       "      <td>-1</td>\n",
       "      <td>-1</td>\n",
       "      <td>1</td>\n",
       "      <td>...</td>\n",
       "      <td>1</td>\n",
       "      <td>1</td>\n",
       "      <td>-1</td>\n",
       "      <td>-1</td>\n",
       "      <td>-1</td>\n",
       "      <td>-1</td>\n",
       "      <td>1</td>\n",
       "      <td>1</td>\n",
       "      <td>-1</td>\n",
       "      <td>-1</td>\n",
       "    </tr>\n",
       "    <tr>\n",
       "      <th>1</th>\n",
       "      <td>1</td>\n",
       "      <td>1</td>\n",
       "      <td>1</td>\n",
       "      <td>1</td>\n",
       "      <td>1</td>\n",
       "      <td>-1</td>\n",
       "      <td>0</td>\n",
       "      <td>1</td>\n",
       "      <td>-1</td>\n",
       "      <td>1</td>\n",
       "      <td>...</td>\n",
       "      <td>1</td>\n",
       "      <td>1</td>\n",
       "      <td>-1</td>\n",
       "      <td>-1</td>\n",
       "      <td>0</td>\n",
       "      <td>-1</td>\n",
       "      <td>1</td>\n",
       "      <td>1</td>\n",
       "      <td>1</td>\n",
       "      <td>-1</td>\n",
       "    </tr>\n",
       "    <tr>\n",
       "      <th>2</th>\n",
       "      <td>1</td>\n",
       "      <td>0</td>\n",
       "      <td>1</td>\n",
       "      <td>1</td>\n",
       "      <td>1</td>\n",
       "      <td>-1</td>\n",
       "      <td>-1</td>\n",
       "      <td>-1</td>\n",
       "      <td>-1</td>\n",
       "      <td>1</td>\n",
       "      <td>...</td>\n",
       "      <td>1</td>\n",
       "      <td>1</td>\n",
       "      <td>1</td>\n",
       "      <td>-1</td>\n",
       "      <td>1</td>\n",
       "      <td>-1</td>\n",
       "      <td>1</td>\n",
       "      <td>0</td>\n",
       "      <td>-1</td>\n",
       "      <td>-1</td>\n",
       "    </tr>\n",
       "    <tr>\n",
       "      <th>3</th>\n",
       "      <td>1</td>\n",
       "      <td>0</td>\n",
       "      <td>1</td>\n",
       "      <td>1</td>\n",
       "      <td>1</td>\n",
       "      <td>-1</td>\n",
       "      <td>-1</td>\n",
       "      <td>-1</td>\n",
       "      <td>1</td>\n",
       "      <td>1</td>\n",
       "      <td>...</td>\n",
       "      <td>1</td>\n",
       "      <td>1</td>\n",
       "      <td>-1</td>\n",
       "      <td>-1</td>\n",
       "      <td>1</td>\n",
       "      <td>-1</td>\n",
       "      <td>1</td>\n",
       "      <td>-1</td>\n",
       "      <td>1</td>\n",
       "      <td>-1</td>\n",
       "    </tr>\n",
       "    <tr>\n",
       "      <th>4</th>\n",
       "      <td>1</td>\n",
       "      <td>0</td>\n",
       "      <td>-1</td>\n",
       "      <td>1</td>\n",
       "      <td>1</td>\n",
       "      <td>-1</td>\n",
       "      <td>1</td>\n",
       "      <td>1</td>\n",
       "      <td>-1</td>\n",
       "      <td>1</td>\n",
       "      <td>...</td>\n",
       "      <td>-1</td>\n",
       "      <td>1</td>\n",
       "      <td>-1</td>\n",
       "      <td>-1</td>\n",
       "      <td>0</td>\n",
       "      <td>-1</td>\n",
       "      <td>1</td>\n",
       "      <td>1</td>\n",
       "      <td>1</td>\n",
       "      <td>1</td>\n",
       "    </tr>\n",
       "    <tr>\n",
       "      <th>...</th>\n",
       "      <td>...</td>\n",
       "      <td>...</td>\n",
       "      <td>...</td>\n",
       "      <td>...</td>\n",
       "      <td>...</td>\n",
       "      <td>...</td>\n",
       "      <td>...</td>\n",
       "      <td>...</td>\n",
       "      <td>...</td>\n",
       "      <td>...</td>\n",
       "      <td>...</td>\n",
       "      <td>...</td>\n",
       "      <td>...</td>\n",
       "      <td>...</td>\n",
       "      <td>...</td>\n",
       "      <td>...</td>\n",
       "      <td>...</td>\n",
       "      <td>...</td>\n",
       "      <td>...</td>\n",
       "      <td>...</td>\n",
       "      <td>...</td>\n",
       "    </tr>\n",
       "    <tr>\n",
       "      <th>11050</th>\n",
       "      <td>1</td>\n",
       "      <td>-1</td>\n",
       "      <td>1</td>\n",
       "      <td>-1</td>\n",
       "      <td>1</td>\n",
       "      <td>1</td>\n",
       "      <td>1</td>\n",
       "      <td>1</td>\n",
       "      <td>-1</td>\n",
       "      <td>-1</td>\n",
       "      <td>...</td>\n",
       "      <td>-1</td>\n",
       "      <td>-1</td>\n",
       "      <td>1</td>\n",
       "      <td>1</td>\n",
       "      <td>-1</td>\n",
       "      <td>-1</td>\n",
       "      <td>1</td>\n",
       "      <td>1</td>\n",
       "      <td>1</td>\n",
       "      <td>1</td>\n",
       "    </tr>\n",
       "    <tr>\n",
       "      <th>11051</th>\n",
       "      <td>-1</td>\n",
       "      <td>1</td>\n",
       "      <td>1</td>\n",
       "      <td>-1</td>\n",
       "      <td>-1</td>\n",
       "      <td>-1</td>\n",
       "      <td>1</td>\n",
       "      <td>-1</td>\n",
       "      <td>-1</td>\n",
       "      <td>-1</td>\n",
       "      <td>...</td>\n",
       "      <td>-1</td>\n",
       "      <td>1</td>\n",
       "      <td>1</td>\n",
       "      <td>1</td>\n",
       "      <td>1</td>\n",
       "      <td>1</td>\n",
       "      <td>1</td>\n",
       "      <td>-1</td>\n",
       "      <td>1</td>\n",
       "      <td>-1</td>\n",
       "    </tr>\n",
       "    <tr>\n",
       "      <th>11052</th>\n",
       "      <td>1</td>\n",
       "      <td>-1</td>\n",
       "      <td>1</td>\n",
       "      <td>1</td>\n",
       "      <td>1</td>\n",
       "      <td>-1</td>\n",
       "      <td>1</td>\n",
       "      <td>-1</td>\n",
       "      <td>-1</td>\n",
       "      <td>1</td>\n",
       "      <td>...</td>\n",
       "      <td>1</td>\n",
       "      <td>1</td>\n",
       "      <td>1</td>\n",
       "      <td>1</td>\n",
       "      <td>1</td>\n",
       "      <td>-1</td>\n",
       "      <td>1</td>\n",
       "      <td>0</td>\n",
       "      <td>1</td>\n",
       "      <td>-1</td>\n",
       "    </tr>\n",
       "    <tr>\n",
       "      <th>11053</th>\n",
       "      <td>-1</td>\n",
       "      <td>-1</td>\n",
       "      <td>1</td>\n",
       "      <td>1</td>\n",
       "      <td>1</td>\n",
       "      <td>-1</td>\n",
       "      <td>-1</td>\n",
       "      <td>-1</td>\n",
       "      <td>1</td>\n",
       "      <td>-1</td>\n",
       "      <td>...</td>\n",
       "      <td>-1</td>\n",
       "      <td>1</td>\n",
       "      <td>1</td>\n",
       "      <td>1</td>\n",
       "      <td>1</td>\n",
       "      <td>-1</td>\n",
       "      <td>1</td>\n",
       "      <td>1</td>\n",
       "      <td>1</td>\n",
       "      <td>-1</td>\n",
       "    </tr>\n",
       "    <tr>\n",
       "      <th>11054</th>\n",
       "      <td>-1</td>\n",
       "      <td>-1</td>\n",
       "      <td>1</td>\n",
       "      <td>1</td>\n",
       "      <td>1</td>\n",
       "      <td>-1</td>\n",
       "      <td>-1</td>\n",
       "      <td>-1</td>\n",
       "      <td>1</td>\n",
       "      <td>1</td>\n",
       "      <td>...</td>\n",
       "      <td>1</td>\n",
       "      <td>1</td>\n",
       "      <td>-1</td>\n",
       "      <td>1</td>\n",
       "      <td>-1</td>\n",
       "      <td>-1</td>\n",
       "      <td>-1</td>\n",
       "      <td>1</td>\n",
       "      <td>-1</td>\n",
       "      <td>-1</td>\n",
       "    </tr>\n",
       "  </tbody>\n",
       "</table>\n",
       "<p>11055 rows × 31 columns</p>\n",
       "</div>"
      ],
      "text/plain": [
       "       0   1   2   3   4   5   6   7   8   9   ...  21  22  23  24  25  26  \\\n",
       "0      -1   1   1   1  -1  -1  -1  -1  -1   1  ...   1   1  -1  -1  -1  -1   \n",
       "1       1   1   1   1   1  -1   0   1  -1   1  ...   1   1  -1  -1   0  -1   \n",
       "2       1   0   1   1   1  -1  -1  -1  -1   1  ...   1   1   1  -1   1  -1   \n",
       "3       1   0   1   1   1  -1  -1  -1   1   1  ...   1   1  -1  -1   1  -1   \n",
       "4       1   0  -1   1   1  -1   1   1  -1   1  ...  -1   1  -1  -1   0  -1   \n",
       "...    ..  ..  ..  ..  ..  ..  ..  ..  ..  ..  ...  ..  ..  ..  ..  ..  ..   \n",
       "11050   1  -1   1  -1   1   1   1   1  -1  -1  ...  -1  -1   1   1  -1  -1   \n",
       "11051  -1   1   1  -1  -1  -1   1  -1  -1  -1  ...  -1   1   1   1   1   1   \n",
       "11052   1  -1   1   1   1  -1   1  -1  -1   1  ...   1   1   1   1   1  -1   \n",
       "11053  -1  -1   1   1   1  -1  -1  -1   1  -1  ...  -1   1   1   1   1  -1   \n",
       "11054  -1  -1   1   1   1  -1  -1  -1   1   1  ...   1   1  -1   1  -1  -1   \n",
       "\n",
       "       27  28  29  30  \n",
       "0       1   1  -1  -1  \n",
       "1       1   1   1  -1  \n",
       "2       1   0  -1  -1  \n",
       "3       1  -1   1  -1  \n",
       "4       1   1   1   1  \n",
       "...    ..  ..  ..  ..  \n",
       "11050   1   1   1   1  \n",
       "11051   1  -1   1  -1  \n",
       "11052   1   0   1  -1  \n",
       "11053   1   1   1  -1  \n",
       "11054  -1   1  -1  -1  \n",
       "\n",
       "[11055 rows x 31 columns]"
      ]
     },
     "execution_count": 3,
     "metadata": {},
     "output_type": "execute_result"
    }
   ],
   "source": [
    "data"
   ]
  },
  {
   "cell_type": "code",
   "execution_count": 4,
   "id": "c549adf9-0578-45ee-8e49-686ce9fa15bb",
   "metadata": {},
   "outputs": [
    {
     "data": {
      "text/plain": [
       "0     0\n",
       "1     0\n",
       "2     0\n",
       "3     0\n",
       "4     0\n",
       "5     0\n",
       "6     0\n",
       "7     0\n",
       "8     0\n",
       "9     0\n",
       "10    0\n",
       "11    0\n",
       "12    0\n",
       "13    0\n",
       "14    0\n",
       "15    0\n",
       "16    0\n",
       "17    0\n",
       "18    0\n",
       "19    0\n",
       "20    0\n",
       "21    0\n",
       "22    0\n",
       "23    0\n",
       "24    0\n",
       "25    0\n",
       "26    0\n",
       "27    0\n",
       "28    0\n",
       "29    0\n",
       "30    0\n",
       "dtype: int64"
      ]
     },
     "execution_count": 4,
     "metadata": {},
     "output_type": "execute_result"
    }
   ],
   "source": [
    "data.isnull().sum()"
   ]
  },
  {
   "cell_type": "code",
   "execution_count": 5,
   "id": "252e7b16-f896-41d4-8f6d-1f4c0917b26c",
   "metadata": {},
   "outputs": [],
   "source": [
    "from sklearn.model_selection import train_test_split"
   ]
  },
  {
   "cell_type": "code",
   "execution_count": 6,
   "id": "80efb7b2-241f-4a78-8ce1-8cde09493166",
   "metadata": {},
   "outputs": [],
   "source": [
    "inputs = data.drop(30, axis=1)"
   ]
  },
  {
   "cell_type": "code",
   "execution_count": 7,
   "id": "fcf71684-8d55-4934-9274-0d703fc7a0ab",
   "metadata": {},
   "outputs": [],
   "source": [
    "outputs = data[30]"
   ]
  },
  {
   "cell_type": "code",
   "execution_count": 8,
   "id": "e8a2768e-dbf4-47ca-be7c-2e8982c3695a",
   "metadata": {},
   "outputs": [
    {
     "name": "stdout",
     "output_type": "stream",
     "text": [
      "(11055, 30) (11055,)\n"
     ]
    }
   ],
   "source": [
    "print(inputs.shape, outputs.shape)"
   ]
  },
  {
   "cell_type": "code",
   "execution_count": 9,
   "id": "3a45c2d0-f8aa-4ace-9383-d5ca0e4c1fe5",
   "metadata": {},
   "outputs": [
    {
     "data": {
      "text/plain": [
       " 1    6157\n",
       "-1    4898\n",
       "Name: 30, dtype: int64"
      ]
     },
     "execution_count": 9,
     "metadata": {},
     "output_type": "execute_result"
    }
   ],
   "source": [
    "outputs.value_counts()"
   ]
  },
  {
   "cell_type": "code",
   "execution_count": 10,
   "id": "fd200dd4-0ed4-4366-b6bc-75c625b4a2a0",
   "metadata": {},
   "outputs": [],
   "source": [
    "train_input, test_input, train_output, test_output = train_test_split(\n",
    "    inputs, outputs, test_size=0.3, random_state=10, stratify=outputs\n",
    ")"
   ]
  },
  {
   "cell_type": "code",
   "execution_count": 11,
   "id": "89622d6e-e8f9-4c54-9b35-960345ad2451",
   "metadata": {},
   "outputs": [
    {
     "name": "stdout",
     "output_type": "stream",
     "text": [
      "(7738, 30) (7738,)\n",
      "(3317, 30) (3317,)\n"
     ]
    }
   ],
   "source": [
    "print(train_input.shape, train_output.shape)\n",
    "print(test_input.shape, test_output.shape)"
   ]
  },
  {
   "cell_type": "code",
   "execution_count": 12,
   "id": "be24a028-1594-4584-b00f-991332292ea5",
   "metadata": {},
   "outputs": [
    {
     "data": {
      "text/plain": [
       " 1    4310\n",
       "-1    3428\n",
       "Name: 30, dtype: int64"
      ]
     },
     "execution_count": 12,
     "metadata": {},
     "output_type": "execute_result"
    }
   ],
   "source": [
    "train_output.value_counts()"
   ]
  },
  {
   "cell_type": "code",
   "execution_count": 13,
   "id": "8386896d-f4bf-42a5-b879-aec32db41b76",
   "metadata": {},
   "outputs": [
    {
     "data": {
      "text/plain": [
       " 1    1847\n",
       "-1    1470\n",
       "Name: 30, dtype: int64"
      ]
     },
     "execution_count": 13,
     "metadata": {},
     "output_type": "execute_result"
    }
   ],
   "source": [
    "test_output.value_counts()"
   ]
  },
  {
   "cell_type": "code",
   "execution_count": 20,
   "id": "e985962b-9def-45ab-aa54-9ec1dde5ab01",
   "metadata": {},
   "outputs": [],
   "source": [
    "from sklearn.tree import DecisionTreeClassifier\n",
    "from sklearn.ensemble import RandomForestClassifier"
   ]
  },
  {
   "cell_type": "code",
   "execution_count": 15,
   "id": "1a84f0b2-60b8-4f6f-932c-f664e14ab730",
   "metadata": {},
   "outputs": [],
   "source": [
    "classifier1 = DecisionTreeClassifier()"
   ]
  },
  {
   "cell_type": "code",
   "execution_count": 16,
   "id": "1653a579-31e3-41e9-8a96-611198150063",
   "metadata": {},
   "outputs": [],
   "source": [
    "classifier2 = RandomForestClassifier()"
   ]
  },
  {
   "cell_type": "code",
   "execution_count": 19,
   "id": "ae09b4f8-ebe6-43d3-b202-e4efd6215a05",
   "metadata": {},
   "outputs": [
    {
     "data": {
      "text/plain": [
       "DecisionTreeClassifier()"
      ]
     },
     "execution_count": 19,
     "metadata": {},
     "output_type": "execute_result"
    }
   ],
   "source": [
    "classifier1.fit(train_input, train_output)"
   ]
  },
  {
   "cell_type": "code",
   "execution_count": 21,
   "id": "70b6fc2f-f502-4c72-ad8c-35d13be19426",
   "metadata": {},
   "outputs": [],
   "source": [
    "from sklearn.metrics import accuracy_score"
   ]
  },
  {
   "cell_type": "code",
   "execution_count": 27,
   "id": "4e9b8833-b1a6-4443-9ed4-42becaa6d147",
   "metadata": {},
   "outputs": [],
   "source": [
    "train_pre1 = classifier1.predict(train_input)"
   ]
  },
  {
   "cell_type": "code",
   "execution_count": 28,
   "id": "70db5531-3af9-446a-b8ce-fb2b6175e044",
   "metadata": {},
   "outputs": [
    {
     "data": {
      "text/plain": [
       "0.989402946497803"
      ]
     },
     "execution_count": 28,
     "metadata": {},
     "output_type": "execute_result"
    }
   ],
   "source": [
    "accuracy_score(train_pre1, train_output)"
   ]
  },
  {
   "cell_type": "code",
   "execution_count": 29,
   "id": "9681e487-b87a-4c00-a4b6-257ec905114a",
   "metadata": {},
   "outputs": [],
   "source": [
    "test_pre1 = classifier1.predict(test_input)"
   ]
  },
  {
   "cell_type": "code",
   "execution_count": 30,
   "id": "3d7d5dbc-ca57-4d60-a427-62765fcae90e",
   "metadata": {},
   "outputs": [
    {
     "data": {
      "text/plain": [
       "0.962918299668375"
      ]
     },
     "execution_count": 30,
     "metadata": {},
     "output_type": "execute_result"
    }
   ],
   "source": [
    "accuracy_score(test_pre1, test_output)"
   ]
  },
  {
   "cell_type": "code",
   "execution_count": 26,
   "id": "c8c579f1-cc0f-4067-9a89-6010d7cd7783",
   "metadata": {},
   "outputs": [
    {
     "data": {
      "text/plain": [
       "RandomForestClassifier()"
      ]
     },
     "execution_count": 26,
     "metadata": {},
     "output_type": "execute_result"
    }
   ],
   "source": [
    "classifier2.fit(train_input, train_output)"
   ]
  },
  {
   "cell_type": "code",
   "execution_count": 31,
   "id": "64f280ef-4793-4264-9439-c832fe3e8b58",
   "metadata": {},
   "outputs": [],
   "source": [
    "train_pre2 = classifier2.predict(train_input)"
   ]
  },
  {
   "cell_type": "code",
   "execution_count": 32,
   "id": "c55f7025-2d37-4f63-b19e-c28034df012f",
   "metadata": {},
   "outputs": [
    {
     "data": {
      "text/plain": [
       "0.989402946497803"
      ]
     },
     "execution_count": 32,
     "metadata": {},
     "output_type": "execute_result"
    }
   ],
   "source": [
    "accuracy_score(train_pre2, train_output)"
   ]
  },
  {
   "cell_type": "code",
   "execution_count": 33,
   "id": "fb56678c-b322-4680-808b-895b45afc93d",
   "metadata": {},
   "outputs": [],
   "source": [
    "test_pre2 = classifier2.predict(test_input)"
   ]
  },
  {
   "cell_type": "code",
   "execution_count": 34,
   "id": "6e5680e3-9621-4257-9c35-9ebc21b31fcb",
   "metadata": {},
   "outputs": [
    {
     "data": {
      "text/plain": [
       "0.9749773892071149"
      ]
     },
     "execution_count": 34,
     "metadata": {},
     "output_type": "execute_result"
    }
   ],
   "source": [
    "accuracy_score(test_pre2, test_output)"
   ]
  },
  {
   "cell_type": "code",
   "execution_count": 35,
   "id": "c9665fe9-67f3-464a-8f12-8f7fb889b550",
   "metadata": {},
   "outputs": [],
   "source": [
    "import pickle"
   ]
  },
  {
   "cell_type": "code",
   "execution_count": 36,
   "id": "04143cb1-f86a-45f9-83d2-59cc14c94fa2",
   "metadata": {},
   "outputs": [],
   "source": [
    "with open('randomtree.pkl', 'wb') as f:\n",
    "    pickle.dump(classifier2, f)"
   ]
  },
  {
   "cell_type": "code",
   "execution_count": 37,
   "id": "6420a412-21ba-41c9-8c96-fee83beff6b5",
   "metadata": {},
   "outputs": [],
   "source": [
    "with open('randomtree.pkl', 'rb') as f:\n",
    "    load_model = pickle.load(f)"
   ]
  },
  {
   "cell_type": "code",
   "execution_count": 38,
   "id": "bb6f2a1a-5512-431c-b9dc-a955eb3861e0",
   "metadata": {},
   "outputs": [],
   "source": [
    "pre = load_model.predict(test_input)"
   ]
  },
  {
   "cell_type": "code",
   "execution_count": 39,
   "id": "21b4ef1e-cb02-48f9-8b56-86fd6e355925",
   "metadata": {},
   "outputs": [
    {
     "data": {
      "text/plain": [
       "0.9749773892071149"
      ]
     },
     "execution_count": 39,
     "metadata": {},
     "output_type": "execute_result"
    }
   ],
   "source": [
    "accuracy_score(pre, test_output)"
   ]
  },
  {
   "cell_type": "markdown",
   "id": "5f0fcf06-e369-4f12-8175-42a7a8505fc0",
   "metadata": {},
   "source": [
    "-----"
   ]
  },
  {
   "cell_type": "code",
   "execution_count": 44,
   "id": "6bdf2ad4-edc3-407f-b89b-fac899d838e1",
   "metadata": {},
   "outputs": [],
   "source": [
    "import numpy as np"
   ]
  },
  {
   "cell_type": "code",
   "execution_count": 45,
   "id": "e8e9f546-5991-4af3-a8bb-fa65ffeda4a8",
   "metadata": {},
   "outputs": [],
   "source": [
    "input_data = test_input.iloc[0].to_list()"
   ]
  },
  {
   "cell_type": "code",
   "execution_count": 47,
   "id": "64c87daf-1704-416a-947c-ebb5cc2a415b",
   "metadata": {},
   "outputs": [],
   "source": [
    "numpy_data = np.asarray(input_data)"
   ]
  },
  {
   "cell_type": "code",
   "execution_count": 50,
   "id": "3f2c4341-3909-4d88-ac80-2b0a2b73907a",
   "metadata": {},
   "outputs": [],
   "source": [
    "reshape_data = numpy_data.reshape(1, -1)"
   ]
  },
  {
   "cell_type": "code",
   "execution_count": 51,
   "id": "29abf9e9-c850-4348-8591-b8b43889fe39",
   "metadata": {},
   "outputs": [],
   "source": [
    "prediction = load_model.predict(reshape_data)"
   ]
  },
  {
   "cell_type": "code",
   "execution_count": 53,
   "id": "82ed29fb-a0d9-4114-8c19-26f9d108518f",
   "metadata": {},
   "outputs": [
    {
     "data": {
      "text/plain": [
       "1"
      ]
     },
     "execution_count": 53,
     "metadata": {},
     "output_type": "execute_result"
    }
   ],
   "source": [
    "prediction[0]"
   ]
  },
  {
   "cell_type": "code",
   "execution_count": 55,
   "id": "e79f7600-9434-4f6d-9051-4da27645743f",
   "metadata": {},
   "outputs": [
    {
     "name": "stdout",
     "output_type": "stream",
     "text": [
      "This is a Normal Site\n"
     ]
    }
   ],
   "source": [
    "if prediction[0] == 1:\n",
    "    print(\"This is a Normal Site\")\n",
    "else:\n",
    "    print(\"This is a Phishing Site\")"
   ]
  }
 ],
 "metadata": {
  "kernelspec": {
   "display_name": "Python 3 (ipykernel)",
   "language": "python",
   "name": "python3"
  },
  "language_info": {
   "codemirror_mode": {
    "name": "ipython",
    "version": 3
   },
   "file_extension": ".py",
   "mimetype": "text/x-python",
   "name": "python",
   "nbconvert_exporter": "python",
   "pygments_lexer": "ipython3",
   "version": "3.9.12"
  }
 },
 "nbformat": 4,
 "nbformat_minor": 5
}
