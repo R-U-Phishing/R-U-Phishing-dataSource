{
 "cells": [
  {
   "cell_type": "markdown",
   "id": "69e80c52-1cdb-4f14-9e33-64220dd46683",
   "metadata": {},
   "source": [
    "# Based by Address Bar"
   ]
  },
  {
   "cell_type": "markdown",
   "id": "efe6ebde-6949-4128-9241-f1db1cac6190",
   "metadata": {},
   "source": [
    "# Using the IP Address"
   ]
  },
  {
   "cell_type": "code",
   "execution_count": 1,
   "id": "1bcba6ff-8783-4ef3-b0c3-918270097e6d",
   "metadata": {},
   "outputs": [],
   "source": [
    "import re"
   ]
  },
  {
   "cell_type": "code",
   "execution_count": 2,
   "id": "8ae95710-32b0-44af-bf52-21b320f87708",
   "metadata": {},
   "outputs": [
    {
     "data": {
      "text/plain": [
       "['.0']"
      ]
     },
     "execution_count": 2,
     "metadata": {},
     "output_type": "execute_result"
    }
   ],
   "source": [
    "re.findall(r'[0-9]{1,3}(\\.[0-9]{1,3}){3}', '0.0.0.0')"
   ]
  },
  {
   "cell_type": "code",
   "execution_count": 3,
   "id": "6c896e10-c962-4818-b37d-cbb53f50f51d",
   "metadata": {},
   "outputs": [],
   "source": [
    "def Ip_Address(url):\n",
    "    ip = re.findall(r'[0-9]{1,3}(\\.[0-9]{1,3}){3}', url)\n",
    "    if ip:\n",
    "        return -1\n",
    "    else:\n",
    "        return 1"
   ]
  },
  {
   "cell_type": "code",
   "execution_count": 4,
   "id": "e4ceeee1-f673-4315-b31f-0f073714e797",
   "metadata": {},
   "outputs": [],
   "source": [
    "url1 = \"https://google.com/\"\n",
    "url2 = \"http://92.27.75.224.tst.com/VerifyDetails.php?W23AZClfQmh7q5WYSo07boZ0F4k6K8jGbnhaZCqQZHXpNUnFinNuMNurROyCXSi8fAjfcK6br3AfYYUgmIK9vfAm39Z11i9hStx4dDgFHRUFQPVcyGl3VWqZ6p07HapzDW&securessl=true\"\n",
    "url3 = \"https://paypal.com-sys.xyz/\""
   ]
  },
  {
   "cell_type": "code",
   "execution_count": 5,
   "id": "64054701-4030-45e9-a9d5-ed7e132a1280",
   "metadata": {},
   "outputs": [
    {
     "name": "stdout",
     "output_type": "stream",
     "text": [
      "1\n",
      "-1\n",
      "1\n"
     ]
    }
   ],
   "source": [
    "print(Ip_Address(url1))\n",
    "print(Ip_Address(url2))\n",
    "print(Ip_Address(url3))"
   ]
  },
  {
   "cell_type": "markdown",
   "id": "1ce42cc4-a421-4ee3-af9b-7ab30116eea8",
   "metadata": {},
   "source": [
    "# Long URL to Hide the Suspicious Part"
   ]
  },
  {
   "cell_type": "code",
   "execution_count": 6,
   "id": "aa7b8030-18c2-4a9f-92a2-17272694e459",
   "metadata": {},
   "outputs": [],
   "source": [
    "def long_Address(url):\n",
    "    long = len(url)\n",
    "    if long < 54:\n",
    "        return 1\n",
    "    if long <= 75:\n",
    "        return 0\n",
    "    return -1"
   ]
  },
  {
   "cell_type": "code",
   "execution_count": 7,
   "id": "5fb77702-7960-4ec3-997b-61e11ca3be4c",
   "metadata": {},
   "outputs": [],
   "source": [
    "url1 = \"https://google.com/\"\n",
    "url2 = \"https://apartmanibeogradrakoc.com/Pymnt/bnc/National%20Bank%20Online.html\"\n",
    "url3 = \"http://91.236.197.35.bc.googleusercontent.com/identificacao.php?linkcompleto=jogo-de-panelas-tramontina-antiaderente-de-aluminio-vermelho-8-pecas-turim-20298-719/p/144131100/ud/panl/&referal=JyqywFhufQsYzAsuioMHYpcDvf7LZ7LAkkZzD0esNST6czPYzA6ihVetwvdGCRx3ATXuAcfXDnkmWVYrSYAt8JovA65xE5WYDOK1jZFEbkjoxktlvg5kCqffNmfrhGMdnxPkuVsvfVuJZzICJchluB&id=7\""
   ]
  },
  {
   "cell_type": "code",
   "execution_count": 8,
   "id": "2d07e581-4337-4ccd-a757-dfcee831eae6",
   "metadata": {},
   "outputs": [
    {
     "name": "stdout",
     "output_type": "stream",
     "text": [
      "1\n",
      "0\n",
      "-1\n"
     ]
    }
   ],
   "source": [
    "print(long_Address(url1))\n",
    "print(long_Address(url2))\n",
    "print(long_Address(url3))"
   ]
  },
  {
   "cell_type": "markdown",
   "id": "58fac760-bf91-4375-94b4-7f2fe9a4dd4e",
   "metadata": {},
   "source": [
    "# Using URL Shortening Services “TinyURL”"
   ]
  },
  {
   "cell_type": "code",
   "execution_count": 9,
   "id": "75c3635b-f071-4cc6-82ec-c5949149b637",
   "metadata": {},
   "outputs": [],
   "source": [
    "from Patterns import *"
   ]
  },
  {
   "cell_type": "code",
   "execution_count": null,
   "id": "d2bddc27-4bd6-45ed-aeb3-d4c20a2f7954",
   "metadata": {},
   "outputs": [],
   "source": [
    "def Shortening_Service(url) :\n",
    "    match = re.search(short_url, url)\n",
    "    if match :\n",
    "        return -1\n",
    "    else :\n",
    "        return 1"
   ]
  },
  {
   "cell_type": "code",
   "execution_count": 11,
   "id": "8a00f067-6db7-4a94-870a-ba049ac78d9a",
   "metadata": {},
   "outputs": [],
   "source": [
    "url1 = \"https://google.com/\"\n",
    "url2 = \"http://bit.ly/2Ze3X6O?FACEBOOK\""
   ]
  },
  {
   "cell_type": "code",
   "execution_count": 12,
   "id": "a52d60ce-4f85-4cd0-a679-a355968d9607",
   "metadata": {},
   "outputs": [
    {
     "name": "stdout",
     "output_type": "stream",
     "text": [
      "1\n",
      "-1\n"
     ]
    }
   ],
   "source": [
    "print(tinyURL(url1))\n",
    "print(tinyURL(url2))"
   ]
  },
  {
   "cell_type": "markdown",
   "id": "9a79465e-1a24-487d-9207-bb1c0f0a409e",
   "metadata": {},
   "source": [
    "# URL’s having “@” Symbol"
   ]
  },
  {
   "cell_type": "code",
   "execution_count": 13,
   "id": "f9487177-6bb6-46f6-9d3d-9e643e2673f9",
   "metadata": {},
   "outputs": [],
   "source": [
    "def at_symbol(url):\n",
    "    if '@' in url or '%40' in url:\n",
    "        return -1\n",
    "    return 1"
   ]
  },
  {
   "cell_type": "code",
   "execution_count": 14,
   "id": "6826c159-8862-460a-9f01-2125b71aa96b",
   "metadata": {},
   "outputs": [],
   "source": [
    "url1 = \"https://google.com/\"\n",
    "url2 = \"http://nails1.cloudns.asia/Po/crypt/crypt/index.php?email=iask%40staff.sina.com.cn\""
   ]
  },
  {
   "cell_type": "code",
   "execution_count": 15,
   "id": "f79ecc7d-76b9-4640-a2a1-c2f368845deb",
   "metadata": {},
   "outputs": [
    {
     "name": "stdout",
     "output_type": "stream",
     "text": [
      "1\n",
      "-1\n"
     ]
    }
   ],
   "source": [
    "print(at_symbol(url1))\n",
    "print(at_symbol(url2))"
   ]
  },
  {
   "cell_type": "markdown",
   "id": "2dd4383e-1e23-4b74-8d68-dad8764e1840",
   "metadata": {},
   "source": [
    "# Redirecting using “//”"
   ]
  },
  {
   "cell_type": "code",
   "execution_count": 16,
   "id": "16e28750-bf1b-4bcf-9c25-4711e0f1e713",
   "metadata": {},
   "outputs": [],
   "source": [
    "def double_slash(url):\n",
    "    if '//' in url[7:]:\n",
    "        return -1\n",
    "    return 1"
   ]
  },
  {
   "cell_type": "code",
   "execution_count": 17,
   "id": "2dbf9837-78e0-45ef-9d87-f27825aea0ca",
   "metadata": {},
   "outputs": [],
   "source": [
    "url1 = \"https://google.com/\"\n",
    "url2 = \"https://dereferer.me/?https%3a//cutt.ly/iws2uth\""
   ]
  },
  {
   "cell_type": "code",
   "execution_count": 18,
   "id": "a43c5531-4ff9-410b-a8cd-cf68388717cb",
   "metadata": {},
   "outputs": [
    {
     "name": "stdout",
     "output_type": "stream",
     "text": [
      "1\n",
      "-1\n"
     ]
    }
   ],
   "source": [
    "print(double_slash(url1))\n",
    "print(double_slash(url2))"
   ]
  },
  {
   "cell_type": "markdown",
   "id": "1e337024-2589-43ef-a218-88eac4519b15",
   "metadata": {},
   "source": [
    "# Adding Prefix or Suffix Separated by (-) to the Domain"
   ]
  },
  {
   "cell_type": "code",
   "execution_count": 19,
   "id": "cbb6c11b-b792-4490-87c5-15c3e7d5a5cf",
   "metadata": {},
   "outputs": [],
   "source": [
    "from tld import get_tld"
   ]
  },
  {
   "cell_type": "code",
   "execution_count": 20,
   "id": "65efbcc8-3767-4be6-95a2-56a566f303f0",
   "metadata": {},
   "outputs": [],
   "source": [
    "def dash_symbol(url):\n",
    "    tld = get_tld(url, as_object==True)\n",
    "    if '-' in tld.domain or '-' in tld.subdomain:\n",
    "        return -1\n",
    "    return 1"
   ]
  },
  {
   "cell_type": "markdown",
   "id": "69ad12d7-88d2-4e93-8246-a9c258cf2799",
   "metadata": {},
   "source": [
    "# Sub Domain and Multi Sub Domains"
   ]
  },
  {
   "cell_type": "code",
   "execution_count": 21,
   "id": "dd2e10ae-38fc-4820-8836-7f7dc577614d",
   "metadata": {},
   "outputs": [],
   "source": [
    "def having_subDomain(url):\n",
    "    url = url.replace('www.', '')\n",
    "    tld = get_tld(url, as_object=True)\n",
    "    dot = 0\n",
    "    dot += str(tld).count('.')\n",
    "    if tld.subdomain:\n",
    "        dot += 1\n",
    "        dot += tld.subdomain.count('.')\n",
    "    if dot <= 1:\n",
    "        return 1\n",
    "    if dot == 2:\n",
    "        return 0\n",
    "    return -1"
   ]
  },
  {
   "cell_type": "code",
   "execution_count": 22,
   "id": "bf4b4ec3-6296-4c2e-bb61-c2d482851b76",
   "metadata": {},
   "outputs": [],
   "source": [
    "url1 = \"http://google.com\"\n",
    "url2 = \"https://services.runescape.com-m.cz/m=weblogin/loginf\"\n",
    "url3 = \"https://index.cgi.security.accountz-update.services/?SHUTD0WN_P4G3\""
   ]
  },
  {
   "cell_type": "code",
   "execution_count": 23,
   "id": "31be65d1-65a9-4b02-b5b5-a50978cdfa02",
   "metadata": {},
   "outputs": [
    {
     "name": "stdout",
     "output_type": "stream",
     "text": [
      "1\n",
      "0\n",
      "-1\n"
     ]
    }
   ],
   "source": [
    "print(having_subDomain(url1))\n",
    "print(having_subDomain(url2))\n",
    "print(having_subDomain(url3))"
   ]
  },
  {
   "cell_type": "markdown",
   "id": "578a6c9f-ea0e-472d-af4b-7b5ccc6ce7f4",
   "metadata": {
    "tags": []
   },
   "source": [
    "# HTTPS (Hyper Text Transfer Protocol with Secure Sockets Layer)"
   ]
  },
  {
   "cell_type": "markdown",
   "id": "86e5f40d-030a-4f29-960c-d8fcccefc485",
   "metadata": {},
   "source": [
    "암호화 <-> 복호화\n",
    "1. 대칭키 방식 - key 1개(암호, 복호)\n",
    "    - 연산이 간단 -> 빠르다\n",
    "    - 키 교환이 필요함\n",
    "    - 키 관리가 불편함\n",
    "1. 공개키 방식 - 공개키/개인키(암호, 복호)\n",
    "    - 연산이 복잡 -> 빠르다\n",
    "    - 키 교환이 필요 없음\n",
    "    - 키 관리가 편함\n",
    "1. 하이브리드 키방식\n",
    "    1. 대칭키 생성\n",
    "    1. 받은 사람의 공개키로 대칭키 암호화\n",
    "    1. 받은 사람의 개인키로 대칭키 복호화\n",
    "    1. 대칭키로 통신\n",
    "    \n",
    "(공개키, 개인키) -> 인증서 획득(인증기관 개인키 암호화)"
   ]
  },
  {
   "cell_type": "code",
   "execution_count": 24,
   "id": "4bbe1976-8b50-4f6c-b5b8-84ac954565a3",
   "metadata": {},
   "outputs": [],
   "source": [
    "import ssl, socket"
   ]
  },
  {
   "cell_type": "code",
   "execution_count": 25,
   "id": "8f9ca51a-6639-40c0-a984-f3e16fdc5374",
   "metadata": {},
   "outputs": [],
   "source": [
    "from datetime import datetime as dt, timezone"
   ]
  },
  {
   "cell_type": "code",
   "execution_count": 26,
   "id": "e24af40e-7004-4706-a5e8-4d8c7d927a1a",
   "metadata": {},
   "outputs": [],
   "source": [
    "from dateutil.parser import parse"
   ]
  },
  {
   "cell_type": "code",
   "execution_count": 27,
   "id": "490629c0-c143-467a-99f8-8f3265a7a727",
   "metadata": {},
   "outputs": [],
   "source": [
    "def https_connect(url):\n",
    "    if \"https://\" in url:\n",
    "        url = url.replace(\"https://\", \"\")\n",
    "    elif \"http://\" in url:\n",
    "        url = url.replace(\"http://\", \"\")\n",
    "    print(url)\n",
    "    ctx = ssl.create_default_context()\n",
    "    s = ctx.wrap_socket(socket.socket(), server_hostname=url)\n",
    "    s.connect((url, 443))\n",
    "    return s"
   ]
  },
  {
   "cell_type": "code",
   "execution_count": 28,
   "id": "dc003e5f-62b4-4c3d-8ea1-1d5a761c5454",
   "metadata": {},
   "outputs": [],
   "source": [
    "def SSLfinal_State(url):\n",
    "    try:\n",
    "        s = https_connect(url)\n",
    "    except:\n",
    "        return -1\n",
    "    cert = s.getpeercert()\n",
    "    notBefore = cert[\"notBefore\"]\n",
    "    init_date = parse(notBefore)\n",
    "    now = dt.now()\n",
    "    total_days = (now.date() - init_date.date()).days\n",
    "    if total_days >= 365:\n",
    "        return 1\n",
    "    return 0"
   ]
  },
  {
   "cell_type": "code",
   "execution_count": 29,
   "id": "069a19dc-d9f8-4b85-89b2-e5b7958a0f56",
   "metadata": {},
   "outputs": [
    {
     "name": "stdout",
     "output_type": "stream",
     "text": [
      "naver.com/\n",
      "-1\n"
     ]
    }
   ],
   "source": [
    "print(SSLfinal_State(\"https://naver.com/\"))"
   ]
  },
  {
   "cell_type": "markdown",
   "id": "9ff76466-8c05-4be9-ac26-491c84727b30",
   "metadata": {},
   "source": [
    "# Domain Registration Length"
   ]
  },
  {
   "cell_type": "code",
   "execution_count": 30,
   "id": "c2ffa86e-f736-460b-beec-6a181f193df4",
   "metadata": {},
   "outputs": [
    {
     "name": "stdout",
     "output_type": "stream",
     "text": [
      "Requirement already satisfied: python-whois in c:\\users\\kimjeongtae\\anaconda3\\lib\\site-packages (0.8.0)\n",
      "Requirement already satisfied: future in c:\\users\\kimjeongtae\\anaconda3\\lib\\site-packages (from python-whois) (0.18.2)\n",
      "Note: you may need to restart the kernel to use updated packages.\n"
     ]
    }
   ],
   "source": [
    "pip install python-whois"
   ]
  },
  {
   "cell_type": "code",
   "execution_count": 31,
   "id": "31778ff2-6234-4473-ad59-7ba5ec836388",
   "metadata": {},
   "outputs": [],
   "source": [
    "import whois"
   ]
  },
  {
   "cell_type": "code",
   "execution_count": 32,
   "id": "61af8471-dd2a-4328-92bf-26eefaf27f8f",
   "metadata": {},
   "outputs": [],
   "source": [
    "domain_info = whois.whois(\"https://naver.com\")"
   ]
  },
  {
   "cell_type": "code",
   "execution_count": 33,
   "id": "643395f2-9e30-4795-a452-a054f77be952",
   "metadata": {},
   "outputs": [
    {
     "data": {
      "text/plain": [
       "[datetime.datetime(2023, 9, 11, 4, 0), datetime.datetime(2023, 9, 11, 0, 0)]"
      ]
     },
     "execution_count": 33,
     "metadata": {},
     "output_type": "execute_result"
    }
   ],
   "source": [
    "domain_info[\"expiration_date\"]"
   ]
  },
  {
   "cell_type": "code",
   "execution_count": 34,
   "id": "7be8cb75-cc6d-4ce4-8908-5b074efa2a82",
   "metadata": {},
   "outputs": [],
   "source": [
    "domain_info = whois.whois(\"https://facebook.com\")"
   ]
  },
  {
   "cell_type": "code",
   "execution_count": 35,
   "id": "c2ce292c-9d96-4b86-8d3b-d26f2ec961fe",
   "metadata": {},
   "outputs": [
    {
     "data": {
      "text/plain": [
       "datetime.datetime(2031, 3, 30, 4, 0)"
      ]
     },
     "execution_count": 35,
     "metadata": {},
     "output_type": "execute_result"
    }
   ],
   "source": [
    "domain_info[\"expiration_date\"]"
   ]
  },
  {
   "cell_type": "code",
   "execution_count": 46,
   "id": "aed0bf85-edd9-41c2-beb5-3bd7259c953c",
   "metadata": {},
   "outputs": [],
   "source": [
    "def Domain_registration_length(url):\n",
    "    domain_info = whois.whois(url)\n",
    "    expirty_time = domain_info[\"expiration_date\"]\n",
    "    now = dt.now().date()\n",
    "    if isinstance(expirty_time, list):\n",
    "        for expirty in expirty_time:\n",
    "            end_days = (expirty.date() - now).days\n",
    "            if end_days > 365:\n",
    "                return 1\n",
    "    else:\n",
    "        end_days = (expirty_time.date() - now).days\n",
    "        if end_days > 365:\n",
    "            return 1\n",
    "    return -1"
   ]
  },
  {
   "cell_type": "code",
   "execution_count": 47,
   "id": "fe996821-10e8-4027-9eed-930f216a2824",
   "metadata": {},
   "outputs": [
    {
     "data": {
      "text/plain": [
       "-1"
      ]
     },
     "execution_count": 47,
     "metadata": {},
     "output_type": "execute_result"
    }
   ],
   "source": [
    "Domain_registration_length(\"https://naver.com\")"
   ]
  },
  {
   "cell_type": "code",
   "execution_count": 48,
   "id": "dc7fc9ae-de80-41e7-8bcf-4f9dc0b5059b",
   "metadata": {},
   "outputs": [
    {
     "data": {
      "text/plain": [
       "1"
      ]
     },
     "execution_count": 48,
     "metadata": {},
     "output_type": "execute_result"
    }
   ],
   "source": [
    "Domain_registration_length(\"https://facebook.com\")"
   ]
  },
  {
   "cell_type": "code",
   "execution_count": 49,
   "id": "c864787d-be9c-4e45-b020-0e51cfe69d0a",
   "metadata": {
    "tags": []
   },
   "outputs": [
    {
     "data": {
      "text/plain": [
       "1"
      ]
     },
     "execution_count": 49,
     "metadata": {},
     "output_type": "execute_result"
    }
   ],
   "source": [
    "Domain_registration_length(\"https://google.com\")"
   ]
  },
  {
   "cell_type": "markdown",
   "id": "64591610-5da2-489c-a103-b6ea57893a79",
   "metadata": {},
   "source": [
    "# Favicon"
   ]
  },
  {
   "cell_type": "code",
   "execution_count": 11,
   "id": "a14e5917-8a2d-45c6-afa5-8b49535e814d",
   "metadata": {},
   "outputs": [],
   "source": [
    "import requests\n",
    "from bs4 import BeautifulSoup\n",
    "import re\n",
    "from tld import get_tld"
   ]
  },
  {
   "cell_type": "code",
   "execution_count": 2,
   "id": "ee6a0b1f-e8bf-4005-b262-e440dd2e8cf2",
   "metadata": {},
   "outputs": [],
   "source": [
    "req = requests.get(\"https://naver.com/\")"
   ]
  },
  {
   "cell_type": "code",
   "execution_count": 3,
   "id": "df7f7258-f50e-48cc-9f9d-73b7ff467519",
   "metadata": {},
   "outputs": [],
   "source": [
    "html = req.text"
   ]
  },
  {
   "cell_type": "code",
   "execution_count": 5,
   "id": "852f8367-029f-48b6-9c4e-2aa6f4018297",
   "metadata": {},
   "outputs": [],
   "source": [
    "soup = BeautifulSoup(html, 'html.parser')"
   ]
  },
  {
   "cell_type": "code",
   "execution_count": 9,
   "id": "a19bad78-2861-482e-b675-fe6a08c946f2",
   "metadata": {},
   "outputs": [],
   "source": [
    "tag_link = soup.find(\"link\", rel=re.compile(\"^icon$\", re.I))"
   ]
  },
  {
   "cell_type": "code",
   "execution_count": 10,
   "id": "770d9383-fb62-40ee-98a2-35560efb10b4",
   "metadata": {},
   "outputs": [
    {
     "data": {
      "text/plain": [
       "'/favicon.ico?1'"
      ]
     },
     "execution_count": 10,
     "metadata": {},
     "output_type": "execute_result"
    }
   ],
   "source": [
    "tag_link[\"href\"]"
   ]
  },
  {
   "cell_type": "code",
   "execution_count": 32,
   "id": "be3f5329-2b20-4e4e-acbe-53a57ec0c974",
   "metadata": {},
   "outputs": [],
   "source": [
    "def Favicon(url):\n",
    "    req = requests.get(url)\n",
    "    html = req.text\n",
    "    soup = BeautifulSoup(html, \"html.parser\")\n",
    "    tag_link = soup.find(\"link\", rel=re.compile(\"^icon$\", re.I))\n",
    "    \n",
    "    if not tag_link:\n",
    "        return 0\n",
    "\n",
    "    tld = get_tld(url, as_object=True)\n",
    "    domain = tld.domain\n",
    "    \n",
    "    if 'http' in tag_link[\"href\"]:\n",
    "        if domain in tag_link[\"href\"]:\n",
    "            return 1\n",
    "        else:\n",
    "            return -1\n",
    "    return 1"
   ]
  },
  {
   "cell_type": "code",
   "execution_count": 33,
   "id": "36608863-e9c0-45d2-8e39-5966f0f4bae2",
   "metadata": {},
   "outputs": [
    {
     "data": {
      "text/plain": [
       "1"
      ]
     },
     "execution_count": 33,
     "metadata": {},
     "output_type": "execute_result"
    }
   ],
   "source": [
    "Favicon(\"https://naver.com\")"
   ]
  },
  {
   "cell_type": "code",
   "execution_count": 34,
   "id": "17d3eb9f-92e4-4e73-bf43-ae0f108576e8",
   "metadata": {},
   "outputs": [
    {
     "data": {
      "text/plain": [
       "-1"
      ]
     },
     "execution_count": 34,
     "metadata": {},
     "output_type": "execute_result"
    }
   ],
   "source": [
    "Favicon(\"https://www.authlowaservices.neptune-ecli.com/\")"
   ]
  },
  {
   "cell_type": "code",
   "execution_count": 35,
   "id": "1239808b-b93c-4b23-a696-710ddcd35f38",
   "metadata": {},
   "outputs": [
    {
     "data": {
      "text/plain": [
       "0"
      ]
     },
     "execution_count": 35,
     "metadata": {},
     "output_type": "execute_result"
    }
   ],
   "source": [
    "Favicon(\"https://boardchats.herokuapp.com/\")"
   ]
  },
  {
   "cell_type": "markdown",
   "id": "de25c51c-36bd-486c-afee-7ed9aff9f358",
   "metadata": {},
   "source": [
    "# The Existence of “HTTPS” Token in the Domain Part of the URL"
   ]
  },
  {
   "cell_type": "code",
   "execution_count": 40,
   "id": "d20e5cc8-1dd7-494b-8841-53d0605b9aec",
   "metadata": {},
   "outputs": [],
   "source": [
    "def HTTPS_token(url):\n",
    "    tld = get_tld(url, as_object=True)\n",
    "    domain = tld.domain\n",
    "    subDomain = tld.subdomain\n",
    "    if \"https\" in domain or \"https\" in subDomain:\n",
    "        return -1\n",
    "    return 1"
   ]
  },
  {
   "cell_type": "code",
   "execution_count": 41,
   "id": "340d5d93-11cf-4370-a0f2-b24a79b2c4d2",
   "metadata": {},
   "outputs": [],
   "source": [
    "url1 = \"https://google.com/\"\n",
    "url2 = \"http://https-www-paypal-it-webapps-mpp-home.soft-hair.com/\""
   ]
  },
  {
   "cell_type": "code",
   "execution_count": 42,
   "id": "2dd8449c-fd51-481b-9d02-c37b525ce4d4",
   "metadata": {},
   "outputs": [
    {
     "name": "stdout",
     "output_type": "stream",
     "text": [
      "url1 : 1\n",
      "url2 : -1\n"
     ]
    }
   ],
   "source": [
    "print(\"url1 :\", HTTPS_token(url1))\n",
    "print(\"url2 :\", HTTPS_token(url2))"
   ]
  }
 ],
 "metadata": {
  "kernelspec": {
   "display_name": "Python 3 (ipykernel)",
   "language": "python",
   "name": "python3"
  },
  "language_info": {
   "codemirror_mode": {
    "name": "ipython",
    "version": 3
   },
   "file_extension": ".py",
   "mimetype": "text/x-python",
   "name": "python",
   "nbconvert_exporter": "python",
   "pygments_lexer": "ipython3",
   "version": "3.9.12"
  }
 },
 "nbformat": 4,
 "nbformat_minor": 5
}
