{
 "cells": [
  {
   "cell_type": "markdown",
   "id": "b73aa9bc-44be-458d-a062-e7969255cff8",
   "metadata": {},
   "source": [
    "# Request URL"
   ]
  },
  {
   "cell_type": "markdown",
   "id": "3eed18f8-9b31-4cd6-b30a-eed3dce34aa6",
   "metadata": {},
   "source": [
    "- a\n",
    "- link\n",
    "- img\n",
    "- script\n",
    "- iframe"
   ]
  },
  {
   "cell_type": "code",
   "execution_count": 11,
   "id": "d7a179c8-3621-4938-a670-8ad4f8e25bc0",
   "metadata": {},
   "outputs": [],
   "source": [
    "import requests\n",
    "from bs4 import BeautifulSoup\n",
    "from tld import get_tld"
   ]
  },
  {
   "cell_type": "code",
   "execution_count": 20,
   "id": "ca25892a-3cff-44c1-a957-943104793b0f",
   "metadata": {},
   "outputs": [],
   "source": [
    "def Request_URL(url):\n",
    "    req = requests.get(url, verify=False)\n",
    "    html = req.text\n",
    "    soup = BeautifulSoup(html, \"html.parser\")\n",
    "    tld = get_tld(url, as_object=True)\n",
    "    domain = tld.domain\n",
    "    \n",
    "    aTags = soup.findAll('a', href=True)\n",
    "    linkTags = soup.findAll('link', href=True)\n",
    "    imgTags = soup.findAll('img', src=True)\n",
    "    scriptTags = soup.findAll('script', src=True)\n",
    "    iframeTags = soup.findAll('iframe', src=True)\n",
    "    \n",
    "    total = len(aTags) + len(linkTags) + len(imgTags) + len(scriptTags) + len(iframeTags)\n",
    "    \n",
    "    count = 0\n",
    "    for a in aTags:\n",
    "        if 'http' in a[\"href\"]:\n",
    "            if domain not in a[\"href\"]:\n",
    "                count += 1\n",
    "    for link in linkTags:\n",
    "        if 'http' in link[\"href\"]:\n",
    "            if domain not in link[\"href\"]:\n",
    "                count += 1\n",
    "    for img in imgTags:\n",
    "        if 'http' in img[\"src\"]:\n",
    "            if domain not in img[\"src\"]:\n",
    "                count += 1\n",
    "    for script in scriptTags:\n",
    "        if 'http' in script[\"src\"]:\n",
    "            if domain not in script[\"src\"]:\n",
    "                count += 1\n",
    "    for iframe in iframeTags:\n",
    "        if 'http' in iframe[\"src\"]:\n",
    "            if domain not in iframe[\"src\"]:\n",
    "                count += 1\n",
    "                \n",
    "    score = count / total * 100\n",
    "    if score < 22:\n",
    "        return 1\n",
    "    elif 22 <= score < 61:\n",
    "        return 0\n",
    "    else:\n",
    "        return -1"
   ]
  },
  {
   "cell_type": "code",
   "execution_count": 21,
   "id": "67b6a06d-2015-450c-bf0a-fc6815217307",
   "metadata": {},
   "outputs": [
    {
     "name": "stderr",
     "output_type": "stream",
     "text": [
      "C:\\Users\\kimjeongtae\\anaconda3\\lib\\site-packages\\urllib3\\connectionpool.py:1043: InsecureRequestWarning: Unverified HTTPS request is being made to host 'naver.com'. Adding certificate verification is strongly advised. See: https://urllib3.readthedocs.io/en/1.26.x/advanced-usage.html#ssl-warnings\n",
      "  warnings.warn(\n",
      "C:\\Users\\kimjeongtae\\anaconda3\\lib\\site-packages\\urllib3\\connectionpool.py:1043: InsecureRequestWarning: Unverified HTTPS request is being made to host 'www.naver.com'. Adding certificate verification is strongly advised. See: https://urllib3.readthedocs.io/en/1.26.x/advanced-usage.html#ssl-warnings\n",
      "  warnings.warn(\n"
     ]
    },
    {
     "data": {
      "text/plain": [
       "1"
      ]
     },
     "execution_count": 21,
     "metadata": {},
     "output_type": "execute_result"
    }
   ],
   "source": [
    "Request_URL(\"https://naver.com\")"
   ]
  },
  {
   "cell_type": "markdown",
   "id": "b72bfde0-9b1a-4105-b54b-0d43ff5acecf",
   "metadata": {},
   "source": [
    "# URL of Anchor"
   ]
  },
  {
   "cell_type": "code",
   "execution_count": 26,
   "id": "2cf2b1db-df47-4cce-a225-43e74322f3fc",
   "metadata": {},
   "outputs": [],
   "source": [
    "def URL_of_Anchor(url):\n",
    "    req = requests.get(url, verify=False)\n",
    "    html = req.text\n",
    "    soup = BeautifulSoup(html, \"html.parser\")\n",
    "    \n",
    "    aTags = soup.findAll('a', href=True)\n",
    "    \n",
    "    tld = get_tld(url, as_object=True)\n",
    "    domain = tld.domain\n",
    "    \n",
    "    count = 0\n",
    "    cstr = ['#', '#content', '#skip', 'javascript::void(0)']\n",
    "    \n",
    "    for a in aTags:\n",
    "        href = a[\"href\"]\n",
    "        if 'http' in href:\n",
    "            if domain not in href:\n",
    "                print(href)\n",
    "                count += 1\n",
    "        else:\n",
    "            for c in cstr:\n",
    "                if c == href:\n",
    "                    print(href)\n",
    "                    count += 1\n",
    "                \n",
    "    score = count / len(aTags) * 100\n",
    "    if score < 31:\n",
    "        return 1\n",
    "    elif 31 <= score < 67:\n",
    "        return 0\n",
    "    else:\n",
    "        return -1"
   ]
  },
  {
   "cell_type": "code",
   "execution_count": 27,
   "id": "f1bb0260-9482-47cb-b4bc-62546ab92c51",
   "metadata": {},
   "outputs": [
    {
     "name": "stdout",
     "output_type": "stream",
     "text": [
      "#\n",
      "#\n",
      "#\n",
      "#\n",
      "#\n",
      "#\n",
      "#\n",
      "#\n"
     ]
    },
    {
     "name": "stderr",
     "output_type": "stream",
     "text": [
      "C:\\Users\\kimjeongtae\\anaconda3\\lib\\site-packages\\urllib3\\connectionpool.py:1043: InsecureRequestWarning: Unverified HTTPS request is being made to host 'bellton00001.web.app'. Adding certificate verification is strongly advised. See: https://urllib3.readthedocs.io/en/1.26.x/advanced-usage.html#ssl-warnings\n",
      "  warnings.warn(\n"
     ]
    },
    {
     "data": {
      "text/plain": [
       "-1"
      ]
     },
     "execution_count": 27,
     "metadata": {},
     "output_type": "execute_result"
    }
   ],
   "source": [
    "URL_of_Anchor('https://bellton00001.web.app/')"
   ]
  },
  {
   "cell_type": "markdown",
   "id": "54e32307-22f0-4637-a294-d4f788a69498",
   "metadata": {},
   "source": [
    "# Links in Meta, Script and Link tags "
   ]
  },
  {
   "cell_type": "markdown",
   "id": "2b1a3241-8898-4a7c-adaa-2e73b2543623",
   "metadata": {},
   "source": [
    "- \\<link href=\"\"\\>\n",
    "- \\<script src=\"\"\\>\n",
    "- \\<meta content=\"\"\\>"
   ]
  },
  {
   "cell_type": "code",
   "execution_count": 32,
   "id": "d1f00224-2421-4d4c-ac34-3cb53d5c187d",
   "metadata": {},
   "outputs": [],
   "source": [
    "def Links_in_tags(url):\n",
    "    req = requests.get(url, verify=False)\n",
    "    html = req.text\n",
    "    soup = BeautifulSoup(html, \"html.parser\")\n",
    "    tld = get_tld(url, as_object=True)\n",
    "    domain = tld.domain\n",
    "    \n",
    "    linkTags = soup.findAll('link', href=True)\n",
    "    scriptTags = soup.findAll('script', src=True)\n",
    "    metaTags = soup.findAll('meta', content=True)\n",
    "    \n",
    "    total = len(linkTags) + len(scriptTags) + len(metaTags)\n",
    "    \n",
    "    count = 0\n",
    "    for link in linkTags:\n",
    "        if 'http' in link[\"href\"]:\n",
    "            if domain not in link[\"href\"]:\n",
    "                count += 1\n",
    "    for script in scriptTags:\n",
    "        if 'http' in script[\"src\"]:\n",
    "            if domain not in script[\"src\"]:\n",
    "                count += 1\n",
    "    for meta in metaTags:\n",
    "        if 'http' in meta[\"content\"]:\n",
    "            if domain not in meta[\"content\"]:\n",
    "                count += 1\n",
    "                \n",
    "    score = count / total * 100\n",
    "    print(score)\n",
    "    if score < 17:\n",
    "        return 1\n",
    "    elif 17 <= score < 81:\n",
    "        return 0\n",
    "    else:\n",
    "        return -1"
   ]
  },
  {
   "cell_type": "code",
   "execution_count": 35,
   "id": "c8806c02-30d3-4a3b-b2be-37249aa610be",
   "metadata": {},
   "outputs": [
    {
     "name": "stderr",
     "output_type": "stream",
     "text": [
      "C:\\Users\\kimjeongtae\\anaconda3\\lib\\site-packages\\urllib3\\connectionpool.py:1043: InsecureRequestWarning: Unverified HTTPS request is being made to host 'google.com'. Adding certificate verification is strongly advised. See: https://urllib3.readthedocs.io/en/1.26.x/advanced-usage.html#ssl-warnings\n",
      "  warnings.warn(\n",
      "C:\\Users\\kimjeongtae\\anaconda3\\lib\\site-packages\\urllib3\\connectionpool.py:1043: InsecureRequestWarning: Unverified HTTPS request is being made to host 'www.google.com'. Adding certificate verification is strongly advised. See: https://urllib3.readthedocs.io/en/1.26.x/advanced-usage.html#ssl-warnings\n",
      "  warnings.warn(\n"
     ]
    },
    {
     "name": "stdout",
     "output_type": "stream",
     "text": [
      "0.0\n"
     ]
    },
    {
     "data": {
      "text/plain": [
       "1"
      ]
     },
     "execution_count": 35,
     "metadata": {},
     "output_type": "execute_result"
    }
   ],
   "source": [
    "Links_in_tags(\"https://google.com\")"
   ]
  },
  {
   "cell_type": "code",
   "execution_count": 36,
   "id": "f138b491-510d-402c-91e2-8c7ff970d526",
   "metadata": {},
   "outputs": [
    {
     "name": "stdout",
     "output_type": "stream",
     "text": [
      "55.172413793103445\n"
     ]
    },
    {
     "name": "stderr",
     "output_type": "stream",
     "text": [
      "C:\\Users\\kimjeongtae\\anaconda3\\lib\\site-packages\\urllib3\\connectionpool.py:1043: InsecureRequestWarning: Unverified HTTPS request is being made to host 'naver.com'. Adding certificate verification is strongly advised. See: https://urllib3.readthedocs.io/en/1.26.x/advanced-usage.html#ssl-warnings\n",
      "  warnings.warn(\n",
      "C:\\Users\\kimjeongtae\\anaconda3\\lib\\site-packages\\urllib3\\connectionpool.py:1043: InsecureRequestWarning: Unverified HTTPS request is being made to host 'www.naver.com'. Adding certificate verification is strongly advised. See: https://urllib3.readthedocs.io/en/1.26.x/advanced-usage.html#ssl-warnings\n",
      "  warnings.warn(\n"
     ]
    },
    {
     "data": {
      "text/plain": [
       "0"
      ]
     },
     "execution_count": 36,
     "metadata": {},
     "output_type": "execute_result"
    }
   ],
   "source": [
    "Links_in_tags(\"https://naver.com\")"
   ]
  },
  {
   "cell_type": "markdown",
   "id": "c28b7cb4-29b8-4d40-92bf-9e5bac3ef02a",
   "metadata": {},
   "source": [
    "# Server Form Handler(SFH)"
   ]
  },
  {
   "cell_type": "markdown",
   "id": "5346605b-881d-4aed-91e6-9e3ca59b175d",
   "metadata": {},
   "source": [
    "- \\<form action=''\\>"
   ]
  },
  {
   "cell_type": "code",
   "execution_count": 44,
   "id": "c83a3386-3b2d-4b8f-bbfc-6753718eb3d5",
   "metadata": {},
   "outputs": [],
   "source": [
    "def SFH(url):\n",
    "    req = requests.get(url, verify=False)\n",
    "    html = req.text\n",
    "    soup = BeautifulSoup(html, \"html.parser\")\n",
    "    tld = get_tld(url, as_object=True)\n",
    "    domain = tld.domain\n",
    "    \n",
    "    formTags = soup.findAll('form', action=True)\n",
    "    if not formTags:\n",
    "        return 0\n",
    "    \n",
    "    form = formTags[0]\n",
    "    if form[\"action\"].replace(' ','')  == \"about:blank\":\n",
    "        return -1\n",
    "    if 'http' in form[\"action\"]:\n",
    "        if domain not in form[\"action\"]:\n",
    "            return 0\n",
    "    return 1"
   ]
  },
  {
   "cell_type": "code",
   "execution_count": 45,
   "id": "33424d49-975e-4249-977c-dbd1d079ddcc",
   "metadata": {},
   "outputs": [
    {
     "name": "stderr",
     "output_type": "stream",
     "text": [
      "C:\\Users\\kimjeongtae\\anaconda3\\lib\\site-packages\\urllib3\\connectionpool.py:1043: InsecureRequestWarning: Unverified HTTPS request is being made to host 'naver.com'. Adding certificate verification is strongly advised. See: https://urllib3.readthedocs.io/en/1.26.x/advanced-usage.html#ssl-warnings\n",
      "  warnings.warn(\n",
      "C:\\Users\\kimjeongtae\\anaconda3\\lib\\site-packages\\urllib3\\connectionpool.py:1043: InsecureRequestWarning: Unverified HTTPS request is being made to host 'www.naver.com'. Adding certificate verification is strongly advised. See: https://urllib3.readthedocs.io/en/1.26.x/advanced-usage.html#ssl-warnings\n",
      "  warnings.warn(\n"
     ]
    },
    {
     "data": {
      "text/plain": [
       "1"
      ]
     },
     "execution_count": 45,
     "metadata": {},
     "output_type": "execute_result"
    }
   ],
   "source": [
    "SFH(\"https://naver.com\")"
   ]
  },
  {
   "cell_type": "markdown",
   "id": "975ce743-3005-44f0-918d-585ebd567b2b",
   "metadata": {},
   "source": [
    "# Abnormal URL"
   ]
  },
  {
   "cell_type": "code",
   "execution_count": 46,
   "id": "bc0324c9-05fb-4f97-b984-b1c29ce1d1ff",
   "metadata": {},
   "outputs": [],
   "source": [
    "import whois"
   ]
  },
  {
   "cell_type": "code",
   "execution_count": 97,
   "id": "8a2dbdd6-960d-4a15-8174-4b0f5174d499",
   "metadata": {},
   "outputs": [],
   "source": [
    "def Abnormal_URL(url):\n",
    "    tld = get_tld(url, as_object=True)\n",
    "    domain = tld.domain\n",
    "    \n",
    "    domain_info = whois.whois(url)\n",
    "    try:\n",
    "        if domain.lower() in domain_info['org'].lower():\n",
    "            return 1\n",
    "        return -1\n",
    "    except:\n",
    "        return 0"
   ]
  },
  {
   "cell_type": "code",
   "execution_count": 98,
   "id": "4e36c62c-517f-44d5-9a20-fec239f2f890",
   "metadata": {},
   "outputs": [
    {
     "data": {
      "text/plain": [
       "1"
      ]
     },
     "execution_count": 98,
     "metadata": {},
     "output_type": "execute_result"
    }
   ],
   "source": [
    "Abnormal_URL(\"https://google.com\")"
   ]
  },
  {
   "cell_type": "code",
   "execution_count": 99,
   "id": "ca1b962a-89c0-4b6c-8f11-180fabe19b9b",
   "metadata": {},
   "outputs": [
    {
     "data": {
      "text/plain": [
       "1"
      ]
     },
     "execution_count": 99,
     "metadata": {},
     "output_type": "execute_result"
    }
   ],
   "source": [
    "Abnormal_URL(\"https://samsung.com\")"
   ]
  },
  {
   "cell_type": "code",
   "execution_count": 100,
   "id": "37a988d6-fd88-4957-92f4-988903e1b752",
   "metadata": {},
   "outputs": [
    {
     "data": {
      "text/plain": [
       "0"
      ]
     },
     "execution_count": 100,
     "metadata": {},
     "output_type": "execute_result"
    }
   ],
   "source": [
    "Abnormal_URL(\"https://multichainsyn.com/connect.html\")"
   ]
  },
  {
   "cell_type": "code",
   "execution_count": 101,
   "id": "79189755-662c-4445-87ad-1ebc39c1cb3e",
   "metadata": {},
   "outputs": [
    {
     "data": {
      "text/plain": [
       "-1"
      ]
     },
     "execution_count": 101,
     "metadata": {},
     "output_type": "execute_result"
    }
   ],
   "source": [
    "Abnormal_URL(\"https://facebook.com\")"
   ]
  }
 ],
 "metadata": {
  "kernelspec": {
   "display_name": "Python 3 (ipykernel)",
   "language": "python",
   "name": "python3"
  },
  "language_info": {
   "codemirror_mode": {
    "name": "ipython",
    "version": 3
   },
   "file_extension": ".py",
   "mimetype": "text/x-python",
   "name": "python",
   "nbconvert_exporter": "python",
   "pygments_lexer": "ipython3",
   "version": "3.9.13"
  }
 },
 "nbformat": 4,
 "nbformat_minor": 5
}
