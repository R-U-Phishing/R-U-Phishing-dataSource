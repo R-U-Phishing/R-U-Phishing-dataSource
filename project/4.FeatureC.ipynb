{
 "cells": [
  {
   "cell_type": "markdown",
   "id": "6dbbfc2f-0e66-496c-9866-2e9fe63cad47",
   "metadata": {},
   "source": [
    "# Age of Domain"
   ]
  },
  {
   "cell_type": "code",
   "execution_count": 1,
   "id": "16731eb0-0084-4598-8eb4-a0ee4aa8d612",
   "metadata": {},
   "outputs": [],
   "source": [
    "import whois\n",
    "from datetime import datetime as dt"
   ]
  },
  {
   "cell_type": "code",
   "execution_count": 10,
   "id": "fbdf85f3-6814-4d8c-bafe-044efa81231b",
   "metadata": {},
   "outputs": [],
   "source": [
    "def Age_of_Domain(url):\n",
    "    domain_info = whois.whois(url)\n",
    "    create_time = domain_info[\"creation_date\"]\n",
    "    \n",
    "    now = dt.now().date()\n",
    "    if isinstance(create_time, list):\n",
    "        for create in create_time:\n",
    "            age_days = (now - create.date()).days\n",
    "            print(age_days)\n",
    "            if age_days >= 180:\n",
    "                return 1\n",
    "    else:\n",
    "        age_days = (now - create_time.date()).days\n",
    "        print(age_days)\n",
    "        if age_days >= 180:\n",
    "            return 1\n",
    "    return -1"
   ]
  },
  {
   "cell_type": "code",
   "execution_count": 11,
   "id": "1add42f2-439c-4b08-9a34-95b6bea7be9d",
   "metadata": {},
   "outputs": [
    {
     "name": "stdout",
     "output_type": "stream",
     "text": [
      "9178\n"
     ]
    },
    {
     "data": {
      "text/plain": [
       "1"
      ]
     },
     "execution_count": 11,
     "metadata": {},
     "output_type": "execute_result"
    }
   ],
   "source": [
    "Age_of_Domain(\"https://naver.com\")"
   ]
  },
  {
   "cell_type": "code",
   "execution_count": 12,
   "id": "f1da49bb-25cb-4d20-bfc4-1dcad195465a",
   "metadata": {},
   "outputs": [
    {
     "name": "stdout",
     "output_type": "stream",
     "text": [
      "1\n"
     ]
    },
    {
     "data": {
      "text/plain": [
       "-1"
      ]
     },
     "execution_count": 12,
     "metadata": {},
     "output_type": "execute_result"
    }
   ],
   "source": [
    "Age_of_Domain(\"https://leonajoseph.rest\")"
   ]
  },
  {
   "cell_type": "markdown",
   "id": "ced08f04-7a8d-4426-b423-74394db9d8a3",
   "metadata": {},
   "source": [
    "# DNS Record"
   ]
  },
  {
   "cell_type": "code",
   "execution_count": 13,
   "id": "0013ac93-4394-4692-8ca0-dde4604ff7d8",
   "metadata": {},
   "outputs": [],
   "source": [
    "def DNS_Record(url):\n",
    "    try:\n",
    "        whois.whois(url)\n",
    "    except:\n",
    "        return -1\n",
    "    return 1"
   ]
  },
  {
   "cell_type": "code",
   "execution_count": 14,
   "id": "27594518-6c6a-475b-9712-b03efcf8e3b1",
   "metadata": {},
   "outputs": [
    {
     "data": {
      "text/plain": [
       "1"
      ]
     },
     "execution_count": 14,
     "metadata": {},
     "output_type": "execute_result"
    }
   ],
   "source": [
    "DNS_Record(\"https://naver.com\")"
   ]
  },
  {
   "cell_type": "code",
   "execution_count": 15,
   "id": "e70a87ef-8d46-48f5-971b-619b68db5ea1",
   "metadata": {},
   "outputs": [
    {
     "data": {
      "text/plain": [
       "-1"
      ]
     },
     "execution_count": 15,
     "metadata": {},
     "output_type": "execute_result"
    }
   ],
   "source": [
    "DNS_Record(\"https://thisdomainhasnotserver.com\")"
   ]
  },
  {
   "cell_type": "markdown",
   "id": "a7437adb-4304-4b5c-a4ae-25e38f9ca695",
   "metadata": {},
   "source": [
    "# PageRank"
   ]
  },
  {
   "cell_type": "code",
   "execution_count": 16,
   "id": "d48812ad-2ed2-4fb3-8409-8061d836cbba",
   "metadata": {},
   "outputs": [],
   "source": [
    "import requests"
   ]
  },
  {
   "cell_type": "code",
   "execution_count": 17,
   "id": "d792c8a1-e769-4dca-b515-d2438296c72e",
   "metadata": {},
   "outputs": [],
   "source": [
    "from bs4 import BeautifulSoup"
   ]
  },
  {
   "cell_type": "code",
   "execution_count": 19,
   "id": "d29a2a7e-0e13-4c9a-a8ba-e8f5f27fc486",
   "metadata": {},
   "outputs": [],
   "source": [
    "def PageRank(url):\n",
    "    data = {\"name\":url}\n",
    "    req = requests.post(\"https://checkpagerank.net/check-page-rank.php\", data=data)\n",
    "    html = req.text\n",
    "    soup = BeautifulSoup(html, \"html.parser\")\n",
    "    \n",
    "    rank = soup.findAll(\"font\", {\"color\":\"#000099\"})[1]\n",
    "    PageRank = rank.text\n",
    "    PageRank = int(PageRank.replace(\"/10\", \"\"))\n",
    "    \n",
    "    if PageRank / 10 < 0.2:\n",
    "        return -1\n",
    "    else:\n",
    "        return 1"
   ]
  }
 ],
 "metadata": {
  "kernelspec": {
   "display_name": "Python 3 (ipykernel)",
   "language": "python",
   "name": "python3"
  },
  "language_info": {
   "codemirror_mode": {
    "name": "ipython",
    "version": 3
   },
   "file_extension": ".py",
   "mimetype": "text/x-python",
   "name": "python",
   "nbconvert_exporter": "python",
   "pygments_lexer": "ipython3",
   "version": "3.9.13"
  }
 },
 "nbformat": 4,
 "nbformat_minor": 5
}
