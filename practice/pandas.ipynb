{
 "cells": [
  {
   "cell_type": "markdown",
   "id": "ae6fcb0c-10a0-4e3d-ad96-4c6399c7de1f",
   "metadata": {},
   "source": [
    "1. 총 구매 금액의 평균?\n",
    "1. 웹 사이트 영어(en)를 쓰는 사람은 몇 명?\n",
    "1. 고객들이 가지고 있는 직업 수?\n",
    "1. 어떤 직업을 가진 사람들이 가장 많은 금액을 지출 했나요?\n",
    "1. 가장 많은 구매(횟수)를 한 직업군은 무엇인가요?\n",
    "1. bondellen@williams-garza.com 메일 주소를 가진 사용자가 사용한 금액은?\n",
    "1. MasterCard를 사용했으며 50달러 이상 구매한 사용자는 몇 명인가요?\n",
    "1. 윈도우를 사용하는 사용자는 몇 명인가요? (Browser Info)\n",
    "1. 전체 사용자 중 윈도우, 리눅스, Mac 운영체제를 사용하는 사용자의 비율은?"
   ]
  },
  {
   "cell_type": "code",
   "execution_count": 1,
   "id": "ddc9925e-da54-42a6-9b5b-c7c61a87c905",
   "metadata": {},
   "outputs": [],
   "source": [
    "import pandas as pd"
   ]
  },
  {
   "cell_type": "code",
   "execution_count": 2,
   "id": "f881afa3-3e10-431f-8989-2968a3bb4d01",
   "metadata": {},
   "outputs": [],
   "source": [
    "df = pd.read_csv(\"ecommerse.csv\")"
   ]
  },
  {
   "cell_type": "code",
   "execution_count": 3,
   "id": "35f64637-048c-4e50-bbe0-9140167dfa00",
   "metadata": {},
   "outputs": [
    {
     "data": {
      "text/html": [
       "<div>\n",
       "<style scoped>\n",
       "    .dataframe tbody tr th:only-of-type {\n",
       "        vertical-align: middle;\n",
       "    }\n",
       "\n",
       "    .dataframe tbody tr th {\n",
       "        vertical-align: top;\n",
       "    }\n",
       "\n",
       "    .dataframe thead th {\n",
       "        text-align: right;\n",
       "    }\n",
       "</style>\n",
       "<table border=\"1\" class=\"dataframe\">\n",
       "  <thead>\n",
       "    <tr style=\"text-align: right;\">\n",
       "      <th></th>\n",
       "      <th>Address</th>\n",
       "      <th>Lot</th>\n",
       "      <th>AM or PM</th>\n",
       "      <th>Browser Info</th>\n",
       "      <th>Company</th>\n",
       "      <th>Credit Card</th>\n",
       "      <th>CC Exp Date</th>\n",
       "      <th>CC Security Code</th>\n",
       "      <th>CC Provider</th>\n",
       "      <th>Email</th>\n",
       "      <th>Job</th>\n",
       "      <th>IP Address</th>\n",
       "      <th>Language</th>\n",
       "      <th>Purchase Price</th>\n",
       "    </tr>\n",
       "  </thead>\n",
       "  <tbody>\n",
       "    <tr>\n",
       "      <th>0</th>\n",
       "      <td>16629 Pace Camp Apt. 448\\nAlexisborough, NE 77...</td>\n",
       "      <td>46 in</td>\n",
       "      <td>PM</td>\n",
       "      <td>Opera/9.56.(X11; Linux x86_64; sl-SI) Presto/2...</td>\n",
       "      <td>Martinez-Herman</td>\n",
       "      <td>6011929061123406</td>\n",
       "      <td>02/20</td>\n",
       "      <td>900</td>\n",
       "      <td>JCB 16 digit</td>\n",
       "      <td>pdunlap@yahoo.com</td>\n",
       "      <td>Scientist, product/process development</td>\n",
       "      <td>149.146.147.205</td>\n",
       "      <td>el</td>\n",
       "      <td>98.14</td>\n",
       "    </tr>\n",
       "  </tbody>\n",
       "</table>\n",
       "</div>"
      ],
      "text/plain": [
       "                                             Address    Lot AM or PM  \\\n",
       "0  16629 Pace Camp Apt. 448\\nAlexisborough, NE 77...  46 in       PM   \n",
       "\n",
       "                                        Browser Info          Company  \\\n",
       "0  Opera/9.56.(X11; Linux x86_64; sl-SI) Presto/2...  Martinez-Herman   \n",
       "\n",
       "        Credit Card CC Exp Date  CC Security Code   CC Provider  \\\n",
       "0  6011929061123406       02/20               900  JCB 16 digit   \n",
       "\n",
       "               Email                                     Job       IP Address  \\\n",
       "0  pdunlap@yahoo.com  Scientist, product/process development  149.146.147.205   \n",
       "\n",
       "  Language  Purchase Price  \n",
       "0       el           98.14  "
      ]
     },
     "execution_count": 3,
     "metadata": {},
     "output_type": "execute_result"
    }
   ],
   "source": [
    "df.head(1)"
   ]
  },
  {
   "cell_type": "code",
   "execution_count": 4,
   "id": "c7c0564b-0a85-4946-9a3c-ad0c41081ecd",
   "metadata": {},
   "outputs": [
    {
     "data": {
      "text/plain": [
       "50.34730200000025"
      ]
     },
     "execution_count": 4,
     "metadata": {},
     "output_type": "execute_result"
    }
   ],
   "source": [
    "df[\"Purchase Price\"].mean()"
   ]
  },
  {
   "cell_type": "code",
   "execution_count": 20,
   "id": "435ae303-5158-4cc6-89aa-58a412246501",
   "metadata": {},
   "outputs": [
    {
     "data": {
      "text/plain": [
       "1098"
      ]
     },
     "execution_count": 20,
     "metadata": {},
     "output_type": "execute_result"
    }
   ],
   "source": [
    "df[\"Language\"].str.lower().value_counts()[\"en\"]"
   ]
  },
  {
   "cell_type": "code",
   "execution_count": 6,
   "id": "a5162506-81f9-4b89-a707-e04ce2b6173e",
   "metadata": {},
   "outputs": [
    {
     "data": {
      "text/plain": [
       "623"
      ]
     },
     "execution_count": 6,
     "metadata": {},
     "output_type": "execute_result"
    }
   ],
   "source": [
    "df[\"Job\"].nunique()"
   ]
  },
  {
   "cell_type": "code",
   "execution_count": 19,
   "id": "c166e224-73ad-43df-ab3f-5575cf733202",
   "metadata": {},
   "outputs": [
    {
     "data": {
      "text/plain": [
       "Job\n",
       "Dietitian                      1605.30\n",
       "Lawyer                         1603.85\n",
       "Purchasing manager             1577.97\n",
       "Therapist, art                 1526.31\n",
       "Clinical cytogeneticist        1495.92\n",
       "                                ...   \n",
       "Music therapist                 327.50\n",
       "Actuary                         262.72\n",
       "Information systems manager     241.42\n",
       "Marketing executive             234.08\n",
       "Art gallery manager             219.05\n",
       "Name: Purchase Price, Length: 623, dtype: float64"
      ]
     },
     "execution_count": 19,
     "metadata": {},
     "output_type": "execute_result"
    }
   ],
   "source": [
    "df.groupby(\"Job\").sum()[\"Purchase Price\"].sort_values(ascending=False)"
   ]
  },
  {
   "cell_type": "code",
   "execution_count": 8,
   "id": "1bf026b1-e2cf-4e62-9bf9-f34c5ecd84a8",
   "metadata": {},
   "outputs": [
    {
     "data": {
      "text/plain": [
       "Job\n",
       "Interior and spatial designer        31\n",
       "Lawyer                               30\n",
       "Social researcher                    28\n",
       "Designer, jewellery                  27\n",
       "Research officer, political party    27\n",
       "                                     ..\n",
       "Music therapist                       7\n",
       "Editor, film/video                    6\n",
       "Actuary                               6\n",
       "Investment analyst                    5\n",
       "Information systems manager           5\n",
       "Name: Purchase Price, Length: 623, dtype: int64"
      ]
     },
     "execution_count": 8,
     "metadata": {},
     "output_type": "execute_result"
    }
   ],
   "source": [
    "df.groupby(\"Job\").count()[\"Purchase Price\"].sort_values(ascending=False)"
   ]
  },
  {
   "cell_type": "code",
   "execution_count": 21,
   "id": "7e8e4dc7-cd7c-4822-92a1-e1dac02dc85c",
   "metadata": {},
   "outputs": [
    {
     "data": {
      "text/plain": [
       "1234    77.88\n",
       "Name: Purchase Price, dtype: float64"
      ]
     },
     "execution_count": 21,
     "metadata": {},
     "output_type": "execute_result"
    }
   ],
   "source": [
    "df[df[\"Email\"].str.lower() == 'bondellen@williams-garza.com'][\"Purchase Price\"]"
   ]
  },
  {
   "cell_type": "code",
   "execution_count": 10,
   "id": "324182c2-9c6e-4be7-b499-8dc5a4d561f8",
   "metadata": {},
   "outputs": [
    {
     "data": {
      "text/plain": [
       "405"
      ]
     },
     "execution_count": 10,
     "metadata": {},
     "output_type": "execute_result"
    }
   ],
   "source": [
    "len(df[(df[\"CC Provider\"].str.lower() == \"mastercard\") & (df[\"Purchase Price\"] >= 50)])"
   ]
  },
  {
   "cell_type": "code",
   "execution_count": 11,
   "id": "34113f72-22a8-47bb-aceb-1c64dab12ce2",
   "metadata": {},
   "outputs": [],
   "source": [
    "browser = df[\"Browser Info\"].str.lower()"
   ]
  },
  {
   "cell_type": "code",
   "execution_count": 12,
   "id": "8eda2f77-fdab-465d-9322-121b9dedde74",
   "metadata": {},
   "outputs": [
    {
     "data": {
      "text/plain": [
       "4994"
      ]
     },
     "execution_count": 12,
     "metadata": {},
     "output_type": "execute_result"
    }
   ],
   "source": [
    "len(df[browser.str.contains(\"windows\")])"
   ]
  },
  {
   "cell_type": "code",
   "execution_count": 22,
   "id": "1fb6272a-8743-4fe3-8492-46c38bb84de5",
   "metadata": {},
   "outputs": [
    {
     "data": {
      "text/plain": [
       "0.4994"
      ]
     },
     "execution_count": 22,
     "metadata": {},
     "output_type": "execute_result"
    }
   ],
   "source": [
    "len(df[browser.str.contains(\"windows\")]) / len(df)"
   ]
  },
  {
   "cell_type": "code",
   "execution_count": 23,
   "id": "3e74562f-2975-47b0-ad13-fe5ec9d0e8f0",
   "metadata": {},
   "outputs": [
    {
     "data": {
      "text/plain": [
       "0.2322"
      ]
     },
     "execution_count": 23,
     "metadata": {},
     "output_type": "execute_result"
    }
   ],
   "source": [
    "len(df[browser.str.contains(\"linux\")]) / len(df)"
   ]
  },
  {
   "cell_type": "code",
   "execution_count": 24,
   "id": "3b67b075-bd60-4f51-a11a-383acaea6675",
   "metadata": {},
   "outputs": [
    {
     "data": {
      "text/plain": [
       "0.2684"
      ]
     },
     "execution_count": 24,
     "metadata": {},
     "output_type": "execute_result"
    }
   ],
   "source": [
    "len(df[browser.str.contains(\"mac\")]) / len(df)"
   ]
  }
 ],
 "metadata": {
  "kernelspec": {
   "display_name": "Python 3 (ipykernel)",
   "language": "python",
   "name": "python3"
  },
  "language_info": {
   "codemirror_mode": {
    "name": "ipython",
    "version": 3
   },
   "file_extension": ".py",
   "mimetype": "text/x-python",
   "name": "python",
   "nbconvert_exporter": "python",
   "pygments_lexer": "ipython3",
   "version": "3.9.12"
  }
 },
 "nbformat": 4,
 "nbformat_minor": 5
}
