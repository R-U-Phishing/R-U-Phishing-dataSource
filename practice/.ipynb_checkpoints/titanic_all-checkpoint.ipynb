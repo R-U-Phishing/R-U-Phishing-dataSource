{
 "cells": [
  {
   "cell_type": "code",
   "execution_count": 1,
   "id": "00b4e595-aec6-4155-9fef-ee95f74fc693",
   "metadata": {},
   "outputs": [],
   "source": [
    "import pandas as pd"
   ]
  },
  {
   "cell_type": "code",
   "execution_count": 2,
   "id": "9b51ef15-9b50-4277-a5c1-c18178f73773",
   "metadata": {},
   "outputs": [],
   "source": [
    "train = pd.read_csv('dataset/train.csv')"
   ]
  },
  {
   "cell_type": "code",
   "execution_count": 3,
   "id": "706262b1-f3c2-4ad4-8adb-26acc328cd88",
   "metadata": {},
   "outputs": [],
   "source": [
    "test = pd.read_csv('dataset/test.csv')"
   ]
  },
  {
   "cell_type": "code",
   "execution_count": 4,
   "id": "91f5042a-c609-402d-8ba1-4b8d64169fce",
   "metadata": {},
   "outputs": [],
   "source": [
    "sub = pd.read_csv('dataset/submission.csv')"
   ]
  },
  {
   "cell_type": "markdown",
   "id": "f2edcb22-983a-4fe0-9e9a-f11308eadf4a",
   "metadata": {},
   "source": [
    "# Train, df 전처리"
   ]
  },
  {
   "cell_type": "code",
   "execution_count": 5,
   "id": "750e2f28-5708-480b-a4ed-231b206db244",
   "metadata": {},
   "outputs": [],
   "source": [
    "train_test_dataset = [train, test]"
   ]
  },
  {
   "cell_type": "code",
   "execution_count": 6,
   "id": "03586c4f-c2ec-47b5-9789-5a474deeeeb1",
   "metadata": {},
   "outputs": [],
   "source": [
    "for df in train_test_dataset:\n",
    "    df['Title'] = df['Name'].str.extract('([A-Za-z]+)\\.')\n",
    "\n",
    "    title_mapping = {'Mr': 0, 'Mrs': 1, 'Miss': 2, 'Master': 3, 'Don': 3, 'Rev': 3, 'Dr': 3, 'Mme': 3, 'Ms': 3, 'Major': 3, 'Lady': 3, 'Sir': 3, 'Mlle': 3, 'Col': 3, 'Capt': 3, 'Countess': 3, 'Jonkheer': 3, 'Dona': 3}\n",
    "    df['Title2'] = df['Title'].map(title_mapping)\n",
    "    df['Age'] = df['Age'].fillna(df.groupby('Title2')['Age'].transform(\"median\"))\n",
    "    df.loc[df['Age'] <= 16, 'Age2'] = 0\n",
    "    df.loc[(16 < df['Age']) & (df['Age'] <= 26), 'Age2'] = 1\n",
    "    df.loc[(26 < df['Age']) & (df['Age'] <= 36), 'Age2'] = 2\n",
    "    df.loc[(36 < df['Age']) & (df['Age'] <= 62), 'Age2'] = 3\n",
    "    df.loc[df['Age'] > 62, 'Age2'] = 4\n",
    "\n",
    "    sex_mapping = {'male':0, 'female':1}\n",
    "    df['Sex2'] = df['Sex'].map(sex_mapping)\n",
    "\n",
    "    df['Embarked'].fillna('S', inplace=True)\n",
    "    embarked_mapping = {'S':0, 'C':1, 'Q':2}\n",
    "    df['Embarked2'] = df['Embarked'].map(embarked_mapping)\n",
    "\n",
    "    df['Fare'].fillna(df.groupby('Pclass')['Fare'].transform('median'), inplace=True)\n",
    "\n",
    "    df.loc[df['Fare'] <= 17, 'Fare2'] = 0\n",
    "    df.loc[(17 < df['Fare']) & (df['Fare'] <= 30), 'Fare2'] = 1\n",
    "    df.loc[(30 < df['Fare']) & (df['Fare'] <= 100), 'Fare2'] = 2\n",
    "    df.loc[df['Fare'] > 100, 'Fare2'] = 3\n",
    "\n",
    "    df['Cabin2'] = df['Cabin'].str[0]\n",
    "    cabin_mapping = {'A':0, 'B':0.4, 'C':0.8, 'D':1.2, 'E':1.6, 'F':2, 'G':2.4, 'T':2.8}\n",
    "    df['Cabin2'] = df['Cabin2'].map(cabin_mapping)\n",
    "    df['Cabin2'].fillna(df.groupby('Pclass')['Cabin2'].transform('median'), inplace=True)\n",
    "\n",
    "    df['FamilySize'] = df['SibSp'] + df['Parch'] + 1\n",
    "    family_mapping = {}\n",
    "    for value in range(1, df['FamilySize'].max()+1):\n",
    "        family_mapping[value] = round((value-1) * 0.4, 2)\n",
    "    df['FamilySize'] = df['FamilySize'].map(family_mapping)"
   ]
  },
  {
   "cell_type": "code",
   "execution_count": 7,
   "id": "cf87a421-4917-413c-be3b-1555b99e8d5b",
   "metadata": {},
   "outputs": [],
   "source": [
    "features_drop = ['PassengerId', 'Name', 'Sex', 'Age', 'SibSp', 'Parch', 'Ticket', 'Fare', 'Cabin', 'Embarked', 'Title', 'Title2']"
   ]
  },
  {
   "cell_type": "code",
   "execution_count": 8,
   "id": "41419601-f3e3-4179-bba4-b46c602cad69",
   "metadata": {},
   "outputs": [],
   "source": [
    "train = train.drop(features_drop, axis=1)"
   ]
  },
  {
   "cell_type": "code",
   "execution_count": 9,
   "id": "8304656a-6825-4490-a713-2c7aacdd9070",
   "metadata": {},
   "outputs": [],
   "source": [
    "test = test.drop(features_drop, axis=1)"
   ]
  },
  {
   "cell_type": "code",
   "execution_count": 10,
   "id": "a708c784-7404-4ea0-ad8d-354b62dd559b",
   "metadata": {},
   "outputs": [
    {
     "data": {
      "text/plain": [
       "Survived      0\n",
       "Pclass        0\n",
       "Age2          0\n",
       "Sex2          0\n",
       "Embarked2     0\n",
       "Fare2         0\n",
       "Cabin2        0\n",
       "FamilySize    0\n",
       "dtype: int64"
      ]
     },
     "execution_count": 10,
     "metadata": {},
     "output_type": "execute_result"
    }
   ],
   "source": [
    "train.isnull().sum()"
   ]
  },
  {
   "cell_type": "code",
   "execution_count": 11,
   "id": "6b15ec59-f635-4d48-abbb-3ba70521db9b",
   "metadata": {},
   "outputs": [
    {
     "data": {
      "text/plain": [
       "Pclass        0\n",
       "Age2          0\n",
       "Sex2          0\n",
       "Embarked2     0\n",
       "Fare2         0\n",
       "Cabin2        0\n",
       "FamilySize    0\n",
       "dtype: int64"
      ]
     },
     "execution_count": 11,
     "metadata": {},
     "output_type": "execute_result"
    }
   ],
   "source": [
    "test.isnull().sum()"
   ]
  },
  {
   "cell_type": "markdown",
   "id": "ea947ac3-f5cb-41e2-b905-eb120c35f541",
   "metadata": {},
   "source": [
    "# 머신러닝 준비"
   ]
  },
  {
   "cell_type": "code",
   "execution_count": 12,
   "id": "ca039a67-e5e1-48c8-8ada-6a3d29490f06",
   "metadata": {},
   "outputs": [],
   "source": [
    "from sklearn.tree import DecisionTreeClassifier\n",
    "from sklearn.ensemble import RandomForestClassifier\n",
    "from sklearn.metrics import accuracy_score\n",
    "from sklearn.model_selection import train_test_split"
   ]
  },
  {
   "cell_type": "code",
   "execution_count": 13,
   "id": "b007ed66-7493-4120-8c7b-fdca57f983c7",
   "metadata": {},
   "outputs": [],
   "source": [
    "train_data = train.drop('Survived', axis=1)"
   ]
  },
  {
   "cell_type": "code",
   "execution_count": 14,
   "id": "250b0496-5061-4c55-80f4-e2ce5a5e431d",
   "metadata": {},
   "outputs": [
    {
     "data": {
      "text/html": [
       "<div>\n",
       "<style scoped>\n",
       "    .dataframe tbody tr th:only-of-type {\n",
       "        vertical-align: middle;\n",
       "    }\n",
       "\n",
       "    .dataframe tbody tr th {\n",
       "        vertical-align: top;\n",
       "    }\n",
       "\n",
       "    .dataframe thead th {\n",
       "        text-align: right;\n",
       "    }\n",
       "</style>\n",
       "<table border=\"1\" class=\"dataframe\">\n",
       "  <thead>\n",
       "    <tr style=\"text-align: right;\">\n",
       "      <th></th>\n",
       "      <th>Pclass</th>\n",
       "      <th>Age2</th>\n",
       "      <th>Sex2</th>\n",
       "      <th>Embarked2</th>\n",
       "      <th>Fare2</th>\n",
       "      <th>Cabin2</th>\n",
       "      <th>FamilySize</th>\n",
       "    </tr>\n",
       "  </thead>\n",
       "  <tbody>\n",
       "    <tr>\n",
       "      <th>0</th>\n",
       "      <td>3</td>\n",
       "      <td>1.0</td>\n",
       "      <td>0</td>\n",
       "      <td>0</td>\n",
       "      <td>0.0</td>\n",
       "      <td>2.0</td>\n",
       "      <td>0.4</td>\n",
       "    </tr>\n",
       "    <tr>\n",
       "      <th>1</th>\n",
       "      <td>1</td>\n",
       "      <td>3.0</td>\n",
       "      <td>1</td>\n",
       "      <td>1</td>\n",
       "      <td>2.0</td>\n",
       "      <td>0.8</td>\n",
       "      <td>0.4</td>\n",
       "    </tr>\n",
       "    <tr>\n",
       "      <th>2</th>\n",
       "      <td>3</td>\n",
       "      <td>1.0</td>\n",
       "      <td>1</td>\n",
       "      <td>0</td>\n",
       "      <td>0.0</td>\n",
       "      <td>2.0</td>\n",
       "      <td>0.0</td>\n",
       "    </tr>\n",
       "    <tr>\n",
       "      <th>3</th>\n",
       "      <td>1</td>\n",
       "      <td>2.0</td>\n",
       "      <td>1</td>\n",
       "      <td>0</td>\n",
       "      <td>2.0</td>\n",
       "      <td>0.8</td>\n",
       "      <td>0.4</td>\n",
       "    </tr>\n",
       "    <tr>\n",
       "      <th>4</th>\n",
       "      <td>3</td>\n",
       "      <td>2.0</td>\n",
       "      <td>0</td>\n",
       "      <td>0</td>\n",
       "      <td>0.0</td>\n",
       "      <td>2.0</td>\n",
       "      <td>0.0</td>\n",
       "    </tr>\n",
       "    <tr>\n",
       "      <th>...</th>\n",
       "      <td>...</td>\n",
       "      <td>...</td>\n",
       "      <td>...</td>\n",
       "      <td>...</td>\n",
       "      <td>...</td>\n",
       "      <td>...</td>\n",
       "      <td>...</td>\n",
       "    </tr>\n",
       "    <tr>\n",
       "      <th>886</th>\n",
       "      <td>2</td>\n",
       "      <td>2.0</td>\n",
       "      <td>0</td>\n",
       "      <td>0</td>\n",
       "      <td>0.0</td>\n",
       "      <td>1.8</td>\n",
       "      <td>0.0</td>\n",
       "    </tr>\n",
       "    <tr>\n",
       "      <th>887</th>\n",
       "      <td>1</td>\n",
       "      <td>1.0</td>\n",
       "      <td>1</td>\n",
       "      <td>0</td>\n",
       "      <td>1.0</td>\n",
       "      <td>0.4</td>\n",
       "      <td>0.0</td>\n",
       "    </tr>\n",
       "    <tr>\n",
       "      <th>888</th>\n",
       "      <td>3</td>\n",
       "      <td>1.0</td>\n",
       "      <td>1</td>\n",
       "      <td>0</td>\n",
       "      <td>1.0</td>\n",
       "      <td>2.0</td>\n",
       "      <td>1.2</td>\n",
       "    </tr>\n",
       "    <tr>\n",
       "      <th>889</th>\n",
       "      <td>1</td>\n",
       "      <td>1.0</td>\n",
       "      <td>0</td>\n",
       "      <td>1</td>\n",
       "      <td>1.0</td>\n",
       "      <td>0.8</td>\n",
       "      <td>0.0</td>\n",
       "    </tr>\n",
       "    <tr>\n",
       "      <th>890</th>\n",
       "      <td>3</td>\n",
       "      <td>2.0</td>\n",
       "      <td>0</td>\n",
       "      <td>2</td>\n",
       "      <td>0.0</td>\n",
       "      <td>2.0</td>\n",
       "      <td>0.0</td>\n",
       "    </tr>\n",
       "  </tbody>\n",
       "</table>\n",
       "<p>891 rows × 7 columns</p>\n",
       "</div>"
      ],
      "text/plain": [
       "     Pclass  Age2  Sex2  Embarked2  Fare2  Cabin2  FamilySize\n",
       "0         3   1.0     0          0    0.0     2.0         0.4\n",
       "1         1   3.0     1          1    2.0     0.8         0.4\n",
       "2         3   1.0     1          0    0.0     2.0         0.0\n",
       "3         1   2.0     1          0    2.0     0.8         0.4\n",
       "4         3   2.0     0          0    0.0     2.0         0.0\n",
       "..      ...   ...   ...        ...    ...     ...         ...\n",
       "886       2   2.0     0          0    0.0     1.8         0.0\n",
       "887       1   1.0     1          0    1.0     0.4         0.0\n",
       "888       3   1.0     1          0    1.0     2.0         1.2\n",
       "889       1   1.0     0          1    1.0     0.8         0.0\n",
       "890       3   2.0     0          2    0.0     2.0         0.0\n",
       "\n",
       "[891 rows x 7 columns]"
      ]
     },
     "execution_count": 14,
     "metadata": {},
     "output_type": "execute_result"
    }
   ],
   "source": [
    "train_data"
   ]
  },
  {
   "cell_type": "code",
   "execution_count": 15,
   "id": "8f86ecc6-a683-434f-9826-09fe39380e81",
   "metadata": {},
   "outputs": [],
   "source": [
    "target = train['Survived']"
   ]
  },
  {
   "cell_type": "code",
   "execution_count": 16,
   "id": "9815e9eb-5f9f-4527-98c6-776dc63dca4f",
   "metadata": {},
   "outputs": [
    {
     "name": "stdout",
     "output_type": "stream",
     "text": [
      "(891, 7) (891,)\n"
     ]
    }
   ],
   "source": [
    "print(train_data.shape, target.shape)"
   ]
  },
  {
   "cell_type": "markdown",
   "id": "623e9b80-9bd9-4609-9100-ab2b322e1027",
   "metadata": {},
   "source": [
    "# DecisionTreeClassifier 머신러닝"
   ]
  },
  {
   "cell_type": "code",
   "execution_count": 17,
   "id": "a1177108-bdce-43d9-ad6f-91ed3b9dd8df",
   "metadata": {},
   "outputs": [],
   "source": [
    "classifier = DecisionTreeClassifier()"
   ]
  },
  {
   "cell_type": "code",
   "execution_count": 18,
   "id": "b4e9ac2a-a63c-498e-9a37-8664d4da9016",
   "metadata": {},
   "outputs": [
    {
     "data": {
      "text/plain": [
       "DecisionTreeClassifier()"
      ]
     },
     "execution_count": 18,
     "metadata": {},
     "output_type": "execute_result"
    }
   ],
   "source": [
    "classifier.fit(train_data, target)"
   ]
  },
  {
   "cell_type": "code",
   "execution_count": 19,
   "id": "28416a35-8015-402a-b436-20ee2688f2e7",
   "metadata": {},
   "outputs": [],
   "source": [
    "train_predict = classifier.predict(train_data)"
   ]
  },
  {
   "cell_type": "code",
   "execution_count": 20,
   "id": "30ca8e2a-9247-4cee-ba48-1a0b005fde51",
   "metadata": {},
   "outputs": [
    {
     "data": {
      "text/plain": [
       "89.56228956228956"
      ]
     },
     "execution_count": 20,
     "metadata": {},
     "output_type": "execute_result"
    }
   ],
   "source": [
    "accuracy_score(train_predict, target) * 100"
   ]
  },
  {
   "cell_type": "code",
   "execution_count": 21,
   "id": "e902179b-f44c-4ec1-a0ff-35a83a798f7e",
   "metadata": {},
   "outputs": [],
   "source": [
    "test_predict = classifier.predict(test)"
   ]
  },
  {
   "cell_type": "code",
   "execution_count": 22,
   "id": "09c04d4f-0c88-4ecf-8264-0fb6a69d367b",
   "metadata": {},
   "outputs": [
    {
     "data": {
      "text/plain": [
       "81.10047846889952"
      ]
     },
     "execution_count": 22,
     "metadata": {},
     "output_type": "execute_result"
    }
   ],
   "source": [
    "accuracy_score(test_predict, sub['Survived']) * 100"
   ]
  },
  {
   "cell_type": "markdown",
   "id": "77a96aff-fee4-493f-99bd-3f2a878268fc",
   "metadata": {},
   "source": [
    "# RandomForestClassifier 머신러닝"
   ]
  },
  {
   "cell_type": "code",
   "execution_count": 31,
   "id": "835d40c2-7226-4cde-b123-490662f3cd9b",
   "metadata": {},
   "outputs": [],
   "source": [
    "classifier2 = RandomForestClassifier(n_estimators=20, random_state=1, min_samples_split=8)"
   ]
  },
  {
   "cell_type": "code",
   "execution_count": 32,
   "id": "6badbef6-268c-40bc-b6f2-dab0d4926127",
   "metadata": {},
   "outputs": [
    {
     "data": {
      "text/plain": [
       "RandomForestClassifier(n_estimators=20, random_state=1)"
      ]
     },
     "execution_count": 32,
     "metadata": {},
     "output_type": "execute_result"
    }
   ],
   "source": [
    "classifier2.fit(train_data, target)"
   ]
  },
  {
   "cell_type": "code",
   "execution_count": 33,
   "id": "e84e63ad-8fd7-46ac-aab1-e0d35c84d9ac",
   "metadata": {},
   "outputs": [],
   "source": [
    "train_predict2 = classifier2.predict(train_data)"
   ]
  },
  {
   "cell_type": "code",
   "execution_count": 34,
   "id": "27dc3639-42a5-482a-a20d-33ba82841cbb",
   "metadata": {},
   "outputs": [
    {
     "data": {
      "text/plain": [
       "89.337822671156"
      ]
     },
     "execution_count": 34,
     "metadata": {},
     "output_type": "execute_result"
    }
   ],
   "source": [
    "accuracy_score(train_predict2, target) * 100"
   ]
  },
  {
   "cell_type": "code",
   "execution_count": 35,
   "id": "5a15e21c-15fd-4c54-8f91-79faa19ff4b7",
   "metadata": {},
   "outputs": [],
   "source": [
    "test_predict2 = classifier2.predict(test)"
   ]
  },
  {
   "cell_type": "code",
   "execution_count": 36,
   "id": "2537410b-0cc3-4e51-a6b2-f81dfe800030",
   "metadata": {},
   "outputs": [
    {
     "data": {
      "text/plain": [
       "83.01435406698565"
      ]
     },
     "execution_count": 36,
     "metadata": {},
     "output_type": "execute_result"
    }
   ],
   "source": [
    "accuracy_score(test_predict2, sub[\"Survived\"]) * 100"
   ]
  }
 ],
 "metadata": {
  "kernelspec": {
   "display_name": "Python 3 (ipykernel)",
   "language": "python",
   "name": "python3"
  },
  "language_info": {
   "codemirror_mode": {
    "name": "ipython",
    "version": 3
   },
   "file_extension": ".py",
   "mimetype": "text/x-python",
   "name": "python",
   "nbconvert_exporter": "python",
   "pygments_lexer": "ipython3",
   "version": "3.9.12"
  }
 },
 "nbformat": 4,
 "nbformat_minor": 5
}
