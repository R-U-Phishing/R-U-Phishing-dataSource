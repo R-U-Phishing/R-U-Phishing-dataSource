{
 "cells": [
  {
   "cell_type": "markdown",
   "id": "c82e1605-8296-4e46-93f7-f742a8ecb644",
   "metadata": {
    "tags": []
   },
   "source": [
    "# 파이썬 테스트"
   ]
  },
  {
   "cell_type": "markdown",
   "id": "0a15aec1-4b0b-418f-888e-9d004d6b49be",
   "metadata": {},
   "source": [
    "1. 57, 84, 93, 58, 67의 평균을 구하세요.\n",
    "1. 5188531을 시간, 분, 초 단위로 변환하세요.\n",
    "1. 2의 100제곱을 7로 나눈 몫과 나머지를 구하세요."
   ]
  },
  {
   "cell_type": "code",
   "execution_count": 1,
   "id": "17e1dd58-936d-4a5b-a021-985035b4cdd8",
   "metadata": {},
   "outputs": [
    {
     "data": {
      "text/plain": [
       "71.8"
      ]
     },
     "execution_count": 1,
     "metadata": {},
     "output_type": "execute_result"
    }
   ],
   "source": [
    "avg = sum([57,84,93,58,67]) / 5\n",
    "avg"
   ]
  },
  {
   "cell_type": "code",
   "execution_count": 2,
   "id": "e08643fa-c05a-406a-b9fd-82e628f2adc2",
   "metadata": {},
   "outputs": [
    {
     "name": "stdout",
     "output_type": "stream",
     "text": [
      "1441시간 15분 31초\n"
     ]
    }
   ],
   "source": [
    "sec = 5188531\n",
    "tme = sec // 3600\n",
    "sec %= 3600\n",
    "mnt = sec // 60\n",
    "sec %= 60\n",
    "print(f\"{tme}시간 {mnt}분 {sec}초\")"
   ]
  },
  {
   "cell_type": "code",
   "execution_count": 3,
   "id": "b0abe290-4794-4a46-81b1-9788df845cfe",
   "metadata": {},
   "outputs": [
    {
     "name": "stdout",
     "output_type": "stream",
     "text": [
      "몫 : 181092942889747057356671886482, 나머지 : 2\n"
     ]
    }
   ],
   "source": [
    "num = 2**100\n",
    "print(f\"몫 : {num // 7}, 나머지 : {num % 7}\")"
   ]
  },
  {
   "cell_type": "markdown",
   "id": "68482fca-049a-4c51-8027-3f9231b4c13c",
   "metadata": {},
   "source": [
    "1. 010-1234-5678 전화번호에서 '-'를 제거하세요.\n",
    "1. 900101-1234567 주민등록번호에서 성별을 나타내는 숫자만 인덱싱\n",
    "1. 900101-1234567 주민등록번호에서 나이 계산\n",
    "   ex) 010101-3456789\n",
    "1. 900101-1234567 주민등록번호에서 '-' 뒤의 숫자 전체를 슬라이싱"
   ]
  },
  {
   "cell_type": "code",
   "execution_count": 4,
   "id": "2e4bc195-fd3b-473d-98f8-58b04c5d3bef",
   "metadata": {},
   "outputs": [
    {
     "data": {
      "text/plain": [
       "'01012345678'"
      ]
     },
     "execution_count": 4,
     "metadata": {},
     "output_type": "execute_result"
    }
   ],
   "source": [
    "tel = \"010-1234-5678\"\n",
    "# \"\".join(tel.split('-'))\n",
    "tel.replace('-', '')"
   ]
  },
  {
   "cell_type": "code",
   "execution_count": 5,
   "id": "2f5f988a-3f39-4b4e-9726-5648cbad598d",
   "metadata": {},
   "outputs": [],
   "source": [
    "idNum = \"900101-1234567\""
   ]
  },
  {
   "cell_type": "code",
   "execution_count": 6,
   "id": "12a73b40-8896-44e3-8157-8ce7925c53d6",
   "metadata": {},
   "outputs": [
    {
     "data": {
      "text/plain": [
       "1"
      ]
     },
     "execution_count": 6,
     "metadata": {},
     "output_type": "execute_result"
    }
   ],
   "source": [
    "gender = int(idNum[7])\n",
    "gender"
   ]
  },
  {
   "cell_type": "code",
   "execution_count": 7,
   "id": "a14b1fe2-28f0-4527-9e12-fd70102576d1",
   "metadata": {},
   "outputs": [
    {
     "data": {
      "text/plain": [
       "33"
      ]
     },
     "execution_count": 7,
     "metadata": {},
     "output_type": "execute_result"
    }
   ],
   "source": [
    "idx = idNum[:2]\n",
    "if gender < 3:\n",
    "    age = 2022 - int('19' + idx) + 1\n",
    "else:\n",
    "    age = 2022 - int('20' + idx) + 1\n",
    "age"
   ]
  },
  {
   "cell_type": "code",
   "execution_count": 8,
   "id": "f9eb5bed-2641-4d66-a963-6e48ec0b1ae3",
   "metadata": {},
   "outputs": [
    {
     "data": {
      "text/plain": [
       "'1234567'"
      ]
     },
     "execution_count": 8,
     "metadata": {},
     "output_type": "execute_result"
    }
   ],
   "source": [
    "idNum.split('-')[1]"
   ]
  },
  {
   "cell_type": "markdown",
   "id": "b9417d74-cf72-4f4c-b7da-6868c878f47e",
   "metadata": {},
   "source": [
    "1. list1=[13,52,24,35,38]을 내림차순으로 정렬하시오.\n",
    "1. list2=['Hello', 'my', 'friends'] 사이에 띄어 쓰기를 넣어 문자열을 완성하세요.\n",
    "1. \"DP,오징어게임,슬기로운 의사생활\"을 netflix_list 라는 리스트로 만들어보세요.\n",
    "1. netflix_list 맨 뒤에 \"호텔 델루나\"를 추가해보세요.\n",
    "1. \"갯마을 차차차\"를 netflix_list 맨 앞에 추가해보세요.\n",
    "1. \"DP\"를 삭제하고, 그 위치에 \"검은태양\"을 추가해보세요.\n",
    "1. list3=[294,185,1384,1282,375,283]의 최대, 최소, 합, 평균을 구하시오.\n",
    "1. 문자열 str1 = \"naver,sk,google,kakao\"에서 각각의 회사명을 company_list에 넣고 오름차순으로 정렬하세요."
   ]
  },
  {
   "cell_type": "code",
   "execution_count": 9,
   "id": "866c58a7-036e-4766-835d-e7353184bf82",
   "metadata": {},
   "outputs": [
    {
     "data": {
      "text/plain": [
       "[52, 38, 35, 24, 13]"
      ]
     },
     "execution_count": 9,
     "metadata": {},
     "output_type": "execute_result"
    }
   ],
   "source": [
    "list1=[13,52,24,35,38]\n",
    "list1.sort(reverse=True)\n",
    "list1"
   ]
  },
  {
   "cell_type": "code",
   "execution_count": 10,
   "id": "2b3ce10f-9e98-4ddb-86b5-9d89a8a8163f",
   "metadata": {},
   "outputs": [
    {
     "data": {
      "text/plain": [
       "'Hello my friends'"
      ]
     },
     "execution_count": 10,
     "metadata": {},
     "output_type": "execute_result"
    }
   ],
   "source": [
    "list2=['Hello', 'my', 'friends']\n",
    "\" \".join(list2)"
   ]
  },
  {
   "cell_type": "code",
   "execution_count": 11,
   "id": "a4e05034-df5b-40ad-8ed1-0993a074d312",
   "metadata": {},
   "outputs": [
    {
     "data": {
      "text/plain": [
       "['DP', '오징어게임', '슬기로운 의사생활']"
      ]
     },
     "execution_count": 11,
     "metadata": {},
     "output_type": "execute_result"
    }
   ],
   "source": [
    "drama = \"DP,오징어게임,슬기로운 의사생활\"\n",
    "netflix_list = drama.split(',')\n",
    "netflix_list"
   ]
  },
  {
   "cell_type": "code",
   "execution_count": 12,
   "id": "4bee9143-1863-4078-a12e-fe7518e72a18",
   "metadata": {},
   "outputs": [
    {
     "data": {
      "text/plain": [
       "['DP', '오징어게임', '슬기로운 의사생활', '호텔 델루나']"
      ]
     },
     "execution_count": 12,
     "metadata": {},
     "output_type": "execute_result"
    }
   ],
   "source": [
    "netflix_list.append(\"호텔 델루나\")\n",
    "netflix_list"
   ]
  },
  {
   "cell_type": "code",
   "execution_count": 13,
   "id": "61000f34-22f1-4801-8840-ff06e59fa0e8",
   "metadata": {},
   "outputs": [
    {
     "data": {
      "text/plain": [
       "['갯마을 차차차', 'DP', '오징어게임', '슬기로운 의사생활', '호텔 델루나']"
      ]
     },
     "execution_count": 13,
     "metadata": {},
     "output_type": "execute_result"
    }
   ],
   "source": [
    "netflix_list.insert(0, \"갯마을 차차차\")\n",
    "netflix_list"
   ]
  },
  {
   "cell_type": "code",
   "execution_count": 14,
   "id": "6a67f75d-7b35-401b-b30f-e52279bdc609",
   "metadata": {},
   "outputs": [
    {
     "data": {
      "text/plain": [
       "['갯마을 차차차', '검은태양', '오징어게임', '슬기로운 의사생활', '호텔 델루나']"
      ]
     },
     "execution_count": 14,
     "metadata": {},
     "output_type": "execute_result"
    }
   ],
   "source": [
    "idx = netflix_list.index(\"DP\")\n",
    "netflix_list.remove(\"DP\")\n",
    "netflix_list.insert(idx, \"검은태양\")\n",
    "netflix_list"
   ]
  },
  {
   "cell_type": "code",
   "execution_count": 15,
   "id": "5a4d6a84-b850-44c9-866d-792bb6d01d71",
   "metadata": {},
   "outputs": [
    {
     "data": {
      "text/plain": [
       "(1384, 185, 3803, 633.8333333333334)"
      ]
     },
     "execution_count": 15,
     "metadata": {},
     "output_type": "execute_result"
    }
   ],
   "source": [
    "list3 = [294,185,1384,1282,375,283]\n",
    "max(list3), min(list3), sum(list3), sum(list3) / len(list3)"
   ]
  },
  {
   "cell_type": "code",
   "execution_count": 16,
   "id": "e70dd941-5498-4cec-830f-7db4afa5f629",
   "metadata": {},
   "outputs": [
    {
     "data": {
      "text/plain": [
       "['google', 'kakao', 'naver', 'sk']"
      ]
     },
     "execution_count": 16,
     "metadata": {},
     "output_type": "execute_result"
    }
   ],
   "source": [
    "str1 = \"naver,sk,google,kakao\"\n",
    "company_list = str1.split(',')\n",
    "company_list.sort()\n",
    "company_list"
   ]
  },
  {
   "cell_type": "markdown",
   "id": "f4d8cfac-1ca0-4f3c-bd34-a1dc31ad170f",
   "metadata": {},
   "source": [
    "1. for문을 이용하여 received_list에서 allowed_list에 존재하지 않는 목록을 뽑아 spam_mail 이라는 리스트를 만드는 코드를 구현하시오.\n",
    "    - received_list = ['tom', 'jenny', 'kyle', 'young', 'tami']\n",
    "    - allowed_list = ['kyle', 'tami', 'jason']\n",
    "2. for문을 이용하여 word_list에서 단어가 7글자 이상이면 모두 대문자로, 7글자 미만이면 모두 소문자로 출력하는 코드를 구현하시오.<br>\n",
    "    - word_list = [\"culture\", \"symbol\", \"effect\", \"experience\", \"affair\"]<br>\n",
    "3. 구구단 3단 중 결과가 홀수인 결과만 출력하는 코드를 구현하시오.\n",
    "4. 다음 2차원 배열의 모든 요소를 출력하는 코드를 구현하시오.<br>\n",
    "    - matrix = [[1,2,3], [4,5,6], [7,8,9]]"
   ]
  },
  {
   "cell_type": "code",
   "execution_count": 17,
   "id": "a138dbc1-2b07-48d4-a7e2-623ffd6cf696",
   "metadata": {},
   "outputs": [
    {
     "data": {
      "text/plain": [
       "['tom', 'jenny', 'young']"
      ]
     },
     "execution_count": 17,
     "metadata": {},
     "output_type": "execute_result"
    }
   ],
   "source": [
    "received_list = ['tom', 'jenny', 'kyle', 'young', 'tami']\n",
    "allowed_list = ['kyle', 'tami', 'jason']\n",
    "spam_mail = []\n",
    "for i in received_list:\n",
    "    if i not in allowed_list:\n",
    "        spam_mail.append(i)\n",
    "spam_mail"
   ]
  },
  {
   "cell_type": "code",
   "execution_count": 18,
   "id": "2a5293ab-7955-4e85-902f-46aa1f49d552",
   "metadata": {},
   "outputs": [
    {
     "name": "stdout",
     "output_type": "stream",
     "text": [
      "CULTURE\n",
      "symbol\n",
      "effect\n",
      "EXPERIENCE\n",
      "affair\n"
     ]
    }
   ],
   "source": [
    "word_list = [\"culture\", \"symbol\", \"effect\", \"experience\", \"affair\"]\n",
    "for i in word_list:\n",
    "    if len(i) >= 7:\n",
    "        print(i.upper())\n",
    "    else:\n",
    "        print(i.lower())"
   ]
  },
  {
   "cell_type": "code",
   "execution_count": 19,
   "id": "b21446c3-6249-457b-bc82-d7ba93dad2cf",
   "metadata": {},
   "outputs": [
    {
     "name": "stdout",
     "output_type": "stream",
     "text": [
      "3\n",
      "9\n",
      "15\n",
      "21\n",
      "27\n"
     ]
    }
   ],
   "source": [
    "for j in range(1, 10):\n",
    "    now = j*3\n",
    "    if now % 2 == 1:\n",
    "        print(now)"
   ]
  },
  {
   "cell_type": "code",
   "execution_count": 20,
   "id": "c17989a1-a4af-4c5c-93d7-07fccc9c7c07",
   "metadata": {},
   "outputs": [
    {
     "name": "stdout",
     "output_type": "stream",
     "text": [
      "1\n",
      "2\n",
      "3\n",
      "4\n",
      "5\n",
      "6\n",
      "7\n",
      "8\n",
      "9\n"
     ]
    }
   ],
   "source": [
    "matrix = [[1,2,3], [4,5,6], [7,8,9]]\n",
    "for i in matrix:\n",
    "    for j in i:\n",
    "        print(j)"
   ]
  },
  {
   "cell_type": "markdown",
   "id": "90580153-fc0e-433b-9daa-696585f40fd2",
   "metadata": {},
   "source": [
    "1. 인자로 숫자 n을 입력받아, '안녕하세요'를 n회 출력하는 함수를 구현하세요.\n",
    "1. 임의의 m개의 인자가 전달될 때, 모든 합을 리턴하는 함수를 구현하세요.\n",
    "1. 인자로 l=[1,4,3,5,7,8,9] 같은 리스트를 입력받을 때, 짝수 리스트를 리턴하는 함수를 구현하세요."
   ]
  },
  {
   "cell_type": "code",
   "execution_count": 21,
   "id": "1b915fec-f858-4efc-9719-05d6477c7af1",
   "metadata": {},
   "outputs": [
    {
     "name": "stdout",
     "output_type": "stream",
     "text": [
      "안녕하세요\n",
      "안녕하세요\n",
      "안녕하세요\n"
     ]
    }
   ],
   "source": [
    "def hello(n):\n",
    "    for i in range(n):\n",
    "        print(\"안녕하세요\")\n",
    "hello(3)"
   ]
  },
  {
   "cell_type": "code",
   "execution_count": 22,
   "id": "714d4f66-ba3c-4116-8e83-535b47d05d32",
   "metadata": {},
   "outputs": [
    {
     "data": {
      "text/plain": [
       "16"
      ]
     },
     "execution_count": 22,
     "metadata": {},
     "output_type": "execute_result"
    }
   ],
   "source": [
    "def sums(*argv):\n",
    "    result = 0\n",
    "    for i in argv:\n",
    "        result += i\n",
    "    return result\n",
    "sums(1,3,5,7)"
   ]
  },
  {
   "cell_type": "code",
   "execution_count": 23,
   "id": "a41392d2-6a64-491f-a766-d09e39b20cc2",
   "metadata": {},
   "outputs": [
    {
     "data": {
      "text/plain": [
       "[4, 8]"
      ]
     },
     "execution_count": 23,
     "metadata": {},
     "output_type": "execute_result"
    }
   ],
   "source": [
    "def evens(l):\n",
    "    result = []\n",
    "    for i in l:\n",
    "        if i % 2 == 0:\n",
    "            result.append(i)\n",
    "    return result\n",
    "evens([1,4,3,5,7,8,9])"
   ]
  },
  {
   "cell_type": "code",
   "execution_count": 24,
   "id": "2487d466-5864-47fd-b8ea-bf24568efb51",
   "metadata": {},
   "outputs": [],
   "source": [
    "import mod"
   ]
  },
  {
   "cell_type": "code",
   "execution_count": 25,
   "id": "0f0ec6fc-f45f-420a-88be-0a54b7e6cf60",
   "metadata": {
    "tags": []
   },
   "outputs": [
    {
     "data": {
      "text/plain": [
       "3"
      ]
     },
     "execution_count": 25,
     "metadata": {},
     "output_type": "execute_result"
    }
   ],
   "source": [
    "mod.add(1, 2)"
   ]
  },
  {
   "cell_type": "code",
   "execution_count": 26,
   "id": "7beb1568-2ab9-4c14-84f4-593f68998627",
   "metadata": {},
   "outputs": [
    {
     "data": {
      "text/plain": [
       "1"
      ]
     },
     "execution_count": 26,
     "metadata": {},
     "output_type": "execute_result"
    }
   ],
   "source": [
    "mod.sub(2, 1)"
   ]
  },
  {
   "cell_type": "code",
   "execution_count": 27,
   "id": "6c9b7312-f1b9-47ac-b29c-3dfb6beee88b",
   "metadata": {},
   "outputs": [
    {
     "data": {
      "text/plain": [
       "3"
      ]
     },
     "execution_count": 27,
     "metadata": {},
     "output_type": "execute_result"
    }
   ],
   "source": [
    "import mod as m\n",
    "m.add(1, 2)"
   ]
  },
  {
   "cell_type": "code",
   "execution_count": 28,
   "id": "931c9b90-b500-4e79-a6e4-74204ec09f98",
   "metadata": {},
   "outputs": [
    {
     "data": {
      "text/plain": [
       "3"
      ]
     },
     "execution_count": 28,
     "metadata": {},
     "output_type": "execute_result"
    }
   ],
   "source": [
    "from mod import add\n",
    "add(1, 2)"
   ]
  },
  {
   "cell_type": "code",
   "execution_count": 29,
   "id": "20b84e0d-ce59-4a1c-8dba-c861af7afe85",
   "metadata": {},
   "outputs": [
    {
     "data": {
      "text/plain": [
       "1"
      ]
     },
     "execution_count": 29,
     "metadata": {},
     "output_type": "execute_result"
    }
   ],
   "source": [
    "from mod import *\n",
    "sub(2, 1)"
   ]
  },
  {
   "cell_type": "code",
   "execution_count": 32,
   "id": "d2d42941-9bf6-48db-9f83-95b61453a0e2",
   "metadata": {},
   "outputs": [
    {
     "data": {
      "text/plain": [
       "'test'"
      ]
     },
     "execution_count": 32,
     "metadata": {},
     "output_type": "execute_result"
    }
   ],
   "source": [
    "from keras.models.test import test\n",
    "test()"
   ]
  }
 ],
 "metadata": {
  "kernelspec": {
   "display_name": "Python 3 (ipykernel)",
   "language": "python",
   "name": "python3"
  },
  "language_info": {
   "codemirror_mode": {
    "name": "ipython",
    "version": 3
   },
   "file_extension": ".py",
   "mimetype": "text/x-python",
   "name": "python",
   "nbconvert_exporter": "python",
   "pygments_lexer": "ipython3",
   "version": "3.9.12"
  }
 },
 "nbformat": 4,
 "nbformat_minor": 5
}
