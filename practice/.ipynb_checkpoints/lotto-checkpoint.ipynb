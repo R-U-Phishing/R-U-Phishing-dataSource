{
 "cells": [
  {
   "cell_type": "code",
   "execution_count": 1,
   "id": "560faa30-ecb2-46cb-be8e-55b27d9eecda",
   "metadata": {},
   "outputs": [],
   "source": [
    "import requests\n",
    "from bs4 import BeautifulSoup\n",
    "import pandas as pd"
   ]
  },
  {
   "cell_type": "code",
   "execution_count": 2,
   "id": "64f0f5c6-68a6-4e65-a563-a4976a0c5437",
   "metadata": {},
   "outputs": [],
   "source": [
    "url = \"https://dhlottery.co.kr/store.do?method=topStore&pageGubun=L645\""
   ]
  },
  {
   "cell_type": "code",
   "execution_count": 3,
   "id": "2e3b0176-a24d-4b0e-b5a4-fff0d1a0ae32",
   "metadata": {},
   "outputs": [],
   "source": [
    "req = requests.get(url)"
   ]
  },
  {
   "cell_type": "code",
   "execution_count": 5,
   "id": "0eca7599-1e65-4dca-9c71-01ea22dafa8c",
   "metadata": {},
   "outputs": [],
   "source": [
    "html = req.text"
   ]
  },
  {
   "cell_type": "code",
   "execution_count": 6,
   "id": "6167c0a0-7ff0-428f-9588-e4b6f11a1f31",
   "metadata": {},
   "outputs": [],
   "source": [
    "soup = BeautifulSoup(html, 'html.parser')"
   ]
  },
  {
   "cell_type": "code",
   "execution_count": 12,
   "id": "5b21e0b1-b74e-474c-9984-a2ee09e69817",
   "metadata": {},
   "outputs": [],
   "source": [
    "name = soup.select('#article > div:nth-child(2) > div > div:nth-child(4) > table > tbody > tr > td:nth-child(2)')"
   ]
  },
  {
   "cell_type": "code",
   "execution_count": 16,
   "id": "1a79f674-dac8-469a-baec-0273fe18cc77",
   "metadata": {},
   "outputs": [],
   "source": [
    "name_t = []\n",
    "for n in name:\n",
    "    name_t.append(n.text)"
   ]
  },
  {
   "cell_type": "code",
   "execution_count": 17,
   "id": "a4ce093b-e539-4722-904f-1b298ee9d958",
   "metadata": {},
   "outputs": [
    {
     "data": {
      "text/plain": [
       "['부자랑', '홈돌이로또복권', 'LG슈퍼', '경준유통', '오천억복권방', '제우스테크', '강경복권방', '청룡마트', '스타복권']"
      ]
     },
     "execution_count": 17,
     "metadata": {},
     "output_type": "execute_result"
    }
   ],
   "source": [
    "name_t"
   ]
  },
  {
   "cell_type": "code",
   "execution_count": 21,
   "id": "b80ae13a-e747-4b0c-9670-56e9990d9ffe",
   "metadata": {},
   "outputs": [],
   "source": [
    "division = soup.select('#article > div:nth-child(2) > div > div:nth-child(4) > table > tbody > tr > td:nth-child(3)')"
   ]
  },
  {
   "cell_type": "code",
   "execution_count": 25,
   "id": "8b3f8c02-4554-4a9c-ae50-b46108e766a4",
   "metadata": {},
   "outputs": [],
   "source": [
    "div_t = []\n",
    "for d in division:\n",
    "    div_t.append(d.text.strip())"
   ]
  },
  {
   "cell_type": "code",
   "execution_count": 26,
   "id": "9b97002c-f6db-4669-856a-a42c11a60d81",
   "metadata": {},
   "outputs": [
    {
     "data": {
      "text/plain": [
       "['수동', '자동', '수동', '자동', '자동', '자동', '자동', '자동', '자동']"
      ]
     },
     "execution_count": 26,
     "metadata": {},
     "output_type": "execute_result"
    }
   ],
   "source": [
    "div_t"
   ]
  },
  {
   "cell_type": "code",
   "execution_count": 33,
   "id": "b9245af5-4c08-4e59-b6fb-f95f7633cf58",
   "metadata": {},
   "outputs": [],
   "source": [
    "address = soup.select('#article > div:nth-child(2) > div > div:nth-child(4) > table > tbody > tr > td:nth-child(4)')"
   ]
  },
  {
   "cell_type": "code",
   "execution_count": 36,
   "id": "852277ac-aebd-41b9-82ea-0b51fbccb793",
   "metadata": {},
   "outputs": [],
   "source": [
    "address_t = []\n",
    "for a in address:\n",
    "    address_t.append(a.text.strip())"
   ]
  },
  {
   "cell_type": "code",
   "execution_count": 37,
   "id": "89d2317c-0539-4ae4-b812-8cea07c94dcf",
   "metadata": {},
   "outputs": [
    {
     "data": {
      "text/plain": [
       "['서울 성동구 둘레15길 23',\n",
       " '인천 남동구 경원대로 971 삼성홈플러스간석점2층내',\n",
       " '인천 연수구 함박로12번길 24 1층',\n",
       " '인천 중구 화랑목로100번길 65 104호',\n",
       " '광주 서구 상무대로 1087',\n",
       " '대전 서구 원도안로 30',\n",
       " '충남 논산시 강경읍 계백로 126-1,(대흥리)',\n",
       " '충남 천안시 동남구 풍세로 1010-31 현대아파트상가B-102호',\n",
       " '전남 목포시 고하대로 688-1 1층']"
      ]
     },
     "execution_count": 37,
     "metadata": {},
     "output_type": "execute_result"
    }
   ],
   "source": [
    "address_t"
   ]
  },
  {
   "cell_type": "code",
   "execution_count": 38,
   "id": "d14fccb4-17b6-4e44-83eb-22c31a38edd2",
   "metadata": {},
   "outputs": [],
   "source": [
    "data = list(zip(name_t, div_t, address_t))"
   ]
  },
  {
   "cell_type": "code",
   "execution_count": 39,
   "id": "1ec512c7-9e54-4107-aabc-9cf02a8c5fb3",
   "metadata": {},
   "outputs": [],
   "source": [
    "lotto = pd.DataFrame(data, columns=['상호명', '구분', '소재지'])"
   ]
  },
  {
   "cell_type": "code",
   "execution_count": 40,
   "id": "13d2823c-5363-47ba-b7c2-2eeda2fcf368",
   "metadata": {},
   "outputs": [
    {
     "data": {
      "text/html": [
       "<div>\n",
       "<style scoped>\n",
       "    .dataframe tbody tr th:only-of-type {\n",
       "        vertical-align: middle;\n",
       "    }\n",
       "\n",
       "    .dataframe tbody tr th {\n",
       "        vertical-align: top;\n",
       "    }\n",
       "\n",
       "    .dataframe thead th {\n",
       "        text-align: right;\n",
       "    }\n",
       "</style>\n",
       "<table border=\"1\" class=\"dataframe\">\n",
       "  <thead>\n",
       "    <tr style=\"text-align: right;\">\n",
       "      <th></th>\n",
       "      <th>상호명</th>\n",
       "      <th>구분</th>\n",
       "      <th>소재지</th>\n",
       "    </tr>\n",
       "  </thead>\n",
       "  <tbody>\n",
       "    <tr>\n",
       "      <th>0</th>\n",
       "      <td>부자랑</td>\n",
       "      <td>수동</td>\n",
       "      <td>서울 성동구 둘레15길 23</td>\n",
       "    </tr>\n",
       "    <tr>\n",
       "      <th>1</th>\n",
       "      <td>홈돌이로또복권</td>\n",
       "      <td>자동</td>\n",
       "      <td>인천 남동구 경원대로 971 삼성홈플러스간석점2층내</td>\n",
       "    </tr>\n",
       "    <tr>\n",
       "      <th>2</th>\n",
       "      <td>LG슈퍼</td>\n",
       "      <td>수동</td>\n",
       "      <td>인천 연수구 함박로12번길 24 1층</td>\n",
       "    </tr>\n",
       "    <tr>\n",
       "      <th>3</th>\n",
       "      <td>경준유통</td>\n",
       "      <td>자동</td>\n",
       "      <td>인천 중구 화랑목로100번길 65 104호</td>\n",
       "    </tr>\n",
       "    <tr>\n",
       "      <th>4</th>\n",
       "      <td>오천억복권방</td>\n",
       "      <td>자동</td>\n",
       "      <td>광주 서구 상무대로 1087</td>\n",
       "    </tr>\n",
       "    <tr>\n",
       "      <th>5</th>\n",
       "      <td>제우스테크</td>\n",
       "      <td>자동</td>\n",
       "      <td>대전 서구 원도안로 30</td>\n",
       "    </tr>\n",
       "    <tr>\n",
       "      <th>6</th>\n",
       "      <td>강경복권방</td>\n",
       "      <td>자동</td>\n",
       "      <td>충남 논산시 강경읍 계백로 126-1,(대흥리)</td>\n",
       "    </tr>\n",
       "    <tr>\n",
       "      <th>7</th>\n",
       "      <td>청룡마트</td>\n",
       "      <td>자동</td>\n",
       "      <td>충남 천안시 동남구 풍세로 1010-31 현대아파트상가B-102호</td>\n",
       "    </tr>\n",
       "    <tr>\n",
       "      <th>8</th>\n",
       "      <td>스타복권</td>\n",
       "      <td>자동</td>\n",
       "      <td>전남 목포시 고하대로 688-1 1층</td>\n",
       "    </tr>\n",
       "  </tbody>\n",
       "</table>\n",
       "</div>"
      ],
      "text/plain": [
       "       상호명  구분                                   소재지\n",
       "0      부자랑  수동                       서울 성동구 둘레15길 23\n",
       "1  홈돌이로또복권  자동          인천 남동구 경원대로 971 삼성홈플러스간석점2층내\n",
       "2     LG슈퍼  수동                  인천 연수구 함박로12번길 24 1층\n",
       "3     경준유통  자동               인천 중구 화랑목로100번길 65 104호\n",
       "4   오천억복권방  자동                       광주 서구 상무대로 1087\n",
       "5    제우스테크  자동                         대전 서구 원도안로 30\n",
       "6    강경복권방  자동            충남 논산시 강경읍 계백로 126-1,(대흥리)\n",
       "7     청룡마트  자동  충남 천안시 동남구 풍세로 1010-31 현대아파트상가B-102호\n",
       "8     스타복권  자동                  전남 목포시 고하대로 688-1 1층"
      ]
     },
     "execution_count": 40,
     "metadata": {},
     "output_type": "execute_result"
    }
   ],
   "source": [
    "lotto"
   ]
  },
  {
   "cell_type": "code",
   "execution_count": 41,
   "id": "f4b845a0-78af-420f-a961-9f06125f902d",
   "metadata": {},
   "outputs": [],
   "source": [
    "form_data = {'method':'topStore','nowPage':'1','rankNo':'','gameNo':'5133','drwNo':'1030','schKey':'all','schVal':''}"
   ]
  },
  {
   "cell_type": "code",
   "execution_count": 42,
   "id": "ab6517cc-927f-46b6-8650-bbc8c7c95f9a",
   "metadata": {},
   "outputs": [
    {
     "data": {
      "text/plain": [
       "{'method': 'topStore',\n",
       " 'nowPage': '1',\n",
       " 'rankNo': '',\n",
       " 'gameNo': '5133',\n",
       " 'drwNo': '1030',\n",
       " 'schKey': 'all',\n",
       " 'schVal': ''}"
      ]
     },
     "execution_count": 42,
     "metadata": {},
     "output_type": "execute_result"
    }
   ],
   "source": [
    "form_data"
   ]
  },
  {
   "cell_type": "code",
   "execution_count": 52,
   "id": "6f655d5e-0657-41ae-a202-8c2706e89ec1",
   "metadata": {},
   "outputs": [
    {
     "data": {
      "text/html": [
       "<div>\n",
       "<style scoped>\n",
       "    .dataframe tbody tr th:only-of-type {\n",
       "        vertical-align: middle;\n",
       "    }\n",
       "\n",
       "    .dataframe tbody tr th {\n",
       "        vertical-align: top;\n",
       "    }\n",
       "\n",
       "    .dataframe thead th {\n",
       "        text-align: right;\n",
       "    }\n",
       "</style>\n",
       "<table border=\"1\" class=\"dataframe\">\n",
       "  <thead>\n",
       "    <tr style=\"text-align: right;\">\n",
       "      <th></th>\n",
       "      <th>회차</th>\n",
       "      <th>상호명</th>\n",
       "      <th>구분</th>\n",
       "      <th>소재지</th>\n",
       "    </tr>\n",
       "  </thead>\n",
       "  <tbody>\n",
       "    <tr>\n",
       "      <th>0</th>\n",
       "      <td>1000</td>\n",
       "      <td>행운식품</td>\n",
       "      <td>자동</td>\n",
       "      <td>서울 관악구 신원로3길 21</td>\n",
       "    </tr>\n",
       "    <tr>\n",
       "      <th>1</th>\n",
       "      <td>1000</td>\n",
       "      <td>로또백화점 홍은점</td>\n",
       "      <td>수동</td>\n",
       "      <td>서울 서대문구 세검정로 99-1 1층 좌측</td>\n",
       "    </tr>\n",
       "    <tr>\n",
       "      <th>2</th>\n",
       "      <td>1000</td>\n",
       "      <td>인터넷 복권판매사이트</td>\n",
       "      <td>수동</td>\n",
       "      <td>동행복권(dhlottery.co.kr)</td>\n",
       "    </tr>\n",
       "    <tr>\n",
       "      <th>3</th>\n",
       "      <td>1000</td>\n",
       "      <td>복권나라</td>\n",
       "      <td>수동</td>\n",
       "      <td>서울 성동구 용답중앙15길 12-1 1층</td>\n",
       "    </tr>\n",
       "    <tr>\n",
       "      <th>4</th>\n",
       "      <td>1000</td>\n",
       "      <td>티에스네트웍스</td>\n",
       "      <td>자동</td>\n",
       "      <td>서울 영등포구 신길로28길  9 상가동 B2층 00006호(신길동, 힐스테이트클래시안)</td>\n",
       "    </tr>\n",
       "    <tr>\n",
       "      <th>...</th>\n",
       "      <td>...</td>\n",
       "      <td>...</td>\n",
       "      <td>...</td>\n",
       "      <td>...</td>\n",
       "    </tr>\n",
       "    <tr>\n",
       "      <th>407</th>\n",
       "      <td>1034</td>\n",
       "      <td>오천억복권방</td>\n",
       "      <td>자동</td>\n",
       "      <td>광주 서구 상무대로 1087</td>\n",
       "    </tr>\n",
       "    <tr>\n",
       "      <th>408</th>\n",
       "      <td>1034</td>\n",
       "      <td>제우스테크</td>\n",
       "      <td>자동</td>\n",
       "      <td>대전 서구 원도안로 30</td>\n",
       "    </tr>\n",
       "    <tr>\n",
       "      <th>409</th>\n",
       "      <td>1034</td>\n",
       "      <td>강경복권방</td>\n",
       "      <td>자동</td>\n",
       "      <td>충남 논산시 강경읍 계백로 126-1,(대흥리)</td>\n",
       "    </tr>\n",
       "    <tr>\n",
       "      <th>410</th>\n",
       "      <td>1034</td>\n",
       "      <td>청룡마트</td>\n",
       "      <td>자동</td>\n",
       "      <td>충남 천안시 동남구 풍세로 1010-31 현대아파트상가B-102호</td>\n",
       "    </tr>\n",
       "    <tr>\n",
       "      <th>411</th>\n",
       "      <td>1034</td>\n",
       "      <td>스타복권</td>\n",
       "      <td>자동</td>\n",
       "      <td>전남 목포시 고하대로 688-1 1층</td>\n",
       "    </tr>\n",
       "  </tbody>\n",
       "</table>\n",
       "<p>412 rows × 4 columns</p>\n",
       "</div>"
      ],
      "text/plain": [
       "       회차          상호명  구분                                               소재지\n",
       "0    1000         행운식품  자동                                   서울 관악구 신원로3길 21\n",
       "1    1000    로또백화점 홍은점  수동                           서울 서대문구 세검정로 99-1 1층 좌측\n",
       "2    1000  인터넷 복권판매사이트  수동                             동행복권(dhlottery.co.kr)\n",
       "3    1000         복권나라  수동                            서울 성동구 용답중앙15길 12-1 1층\n",
       "4    1000      티에스네트웍스  자동  서울 영등포구 신길로28길  9 상가동 B2층 00006호(신길동, 힐스테이트클래시안)\n",
       "..    ...          ...  ..                                               ...\n",
       "407  1034       오천억복권방  자동                                   광주 서구 상무대로 1087\n",
       "408  1034        제우스테크  자동                                     대전 서구 원도안로 30\n",
       "409  1034        강경복권방  자동                        충남 논산시 강경읍 계백로 126-1,(대흥리)\n",
       "410  1034         청룡마트  자동              충남 천안시 동남구 풍세로 1010-31 현대아파트상가B-102호\n",
       "411  1034         스타복권  자동                              전남 목포시 고하대로 688-1 1층\n",
       "\n",
       "[412 rows x 4 columns]"
      ]
     },
     "execution_count": 52,
     "metadata": {},
     "output_type": "execute_result"
    }
   ],
   "source": [
    "url = \"https://dhlottery.co.kr/store.do?method=topStore&pageGubun=L645\"\n",
    "rounds_t = []\n",
    "name_t = []\n",
    "div_t = []\n",
    "address_t = []\n",
    "for rounds in range(1000, 1035):\n",
    "    form_data = {'method':'topStore','nowPage':'1','rankNo':'','gameNo':'5133','drwNo':str(rounds),'schKey':'all','schVal':''}\n",
    "\n",
    "    req = requests.post(url, data=form_data)\n",
    "    html = req.text\n",
    "    soup = BeautifulSoup(html, 'html.parser')\n",
    "\n",
    "    name = soup.select('#article > div:nth-child(2) > div > div:nth-child(4) > table > tbody > tr > td:nth-child(2)')\n",
    "    division = soup.select('#article > div:nth-child(2) > div > div:nth-child(4) > table > tbody > tr > td:nth-child(3)')\n",
    "    address = soup.select('#article > div:nth-child(2) > div > div:nth-child(4) > table > tbody > tr > td:nth-child(4)')\n",
    "    \n",
    "    for i in range(len(name)):\n",
    "        rounds_t.append(rounds)\n",
    "        name_t.append(name[i].text)\n",
    "        div_t.append(division[i].text.strip())\n",
    "        address_t.append(address[i].text.strip())\n",
    "    \n",
    "data = list(zip(rounds_t, name_t, div_t, address_t))\n",
    "lotto = pd.DataFrame(data, columns=['회차', '상호명', '구분', '소재지'])\n",
    "lotto"
   ]
  },
  {
   "cell_type": "code",
   "execution_count": 53,
   "id": "ff5cb16d-47fd-474a-9a44-20bf60fdee50",
   "metadata": {},
   "outputs": [],
   "source": [
    "lotto.to_csv('lotto.csv', index=False, encoding='euc-kr')"
   ]
  },
  {
   "cell_type": "code",
   "execution_count": 65,
   "id": "1d5fa3db-5857-443e-bcd1-536096e883c3",
   "metadata": {},
   "outputs": [
    {
     "data": {
      "text/plain": [
       "회차\n",
       "1019    50\n",
       "1000    22\n",
       "1028    20\n",
       "1030    19\n",
       "1026    15\n",
       "1009    15\n",
       "1003    14\n",
       "1012    13\n",
       "1033    13\n",
       "1020    13\n",
       "1001    12\n",
       "1021    12\n",
       "1005    12\n",
       "1016    11\n",
       "1008    11\n",
       "1011    11\n",
       "1029    10\n",
       "1014    10\n",
       "1027    10\n",
       "1032    10\n",
       "1004    10\n",
       "1023     9\n",
       "1034     9\n",
       "1007     9\n",
       "1006     9\n",
       "1024     8\n",
       "1015     8\n",
       "1010     8\n",
       "1031     8\n",
       "1002     8\n",
       "1017     7\n",
       "1022     5\n",
       "1013     5\n",
       "1025     4\n",
       "1018     2\n",
       "dtype: int64"
      ]
     },
     "execution_count": 65,
     "metadata": {},
     "output_type": "execute_result"
    }
   ],
   "source": [
    "lotto.groupby('회차').size().sort_values(ascending=False)"
   ]
  },
  {
   "cell_type": "code",
   "execution_count": 75,
   "id": "fda2697d-a67a-41b1-a219-8827394ae82c",
   "metadata": {},
   "outputs": [
    {
     "data": {
      "text/plain": [
       "소재지\n",
       "경기                       105\n",
       "서울                        79\n",
       "충남                        27\n",
       "인천                        26\n",
       "부산                        24\n",
       "경남                        22\n",
       "전북                        17\n",
       "동행복권(dhlottery.co.kr)     17\n",
       "전남                        16\n",
       "경북                        15\n",
       "대구                        14\n",
       "강원                         9\n",
       "울산                         9\n",
       "대전                         9\n",
       "충북                         8\n",
       "광주                         7\n",
       "제주                         6\n",
       "세종                         2\n",
       "dtype: int64"
      ]
     },
     "execution_count": 75,
     "metadata": {},
     "output_type": "execute_result"
    }
   ],
   "source": [
    "lotto.groupby(lotto['소재지'].str.split().str[0]).size().sort_values(ascending=False)"
   ]
  },
  {
   "cell_type": "code",
   "execution_count": 76,
   "id": "c6ead9f9-7c69-4482-afd1-8d9b4d506820",
   "metadata": {},
   "outputs": [
    {
     "data": {
      "text/plain": [
       "소재지\n",
       "서구     13\n",
       "중구     12\n",
       "수원시    10\n",
       "송파구     9\n",
       "고양시     9\n",
       "       ..\n",
       "원주시     1\n",
       "유성구     1\n",
       "동래구     1\n",
       "인제군     1\n",
       "화천군     1\n",
       "Length: 126, dtype: int64"
      ]
     },
     "execution_count": 76,
     "metadata": {},
     "output_type": "execute_result"
    }
   ],
   "source": [
    "lotto.groupby(lotto['소재지'].str.split().str[1]).size().sort_values(ascending=False)"
   ]
  }
 ],
 "metadata": {
  "kernelspec": {
   "display_name": "Python 3 (ipykernel)",
   "language": "python",
   "name": "python3"
  },
  "language_info": {
   "codemirror_mode": {
    "name": "ipython",
    "version": 3
   },
   "file_extension": ".py",
   "mimetype": "text/x-python",
   "name": "python",
   "nbconvert_exporter": "python",
   "pygments_lexer": "ipython3",
   "version": "3.9.12"
  }
 },
 "nbformat": 4,
 "nbformat_minor": 5
}
